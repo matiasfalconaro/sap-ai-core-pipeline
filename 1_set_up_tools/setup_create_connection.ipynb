{
 "cells": [
  {
   "cell_type": "markdown",
   "metadata": {},
   "source": [
    "# Set Up Tools to Connect With and Operate SAP AI Core\n",
    "\n",
    "Author: https://github.com/dhrubpaul\n",
    "\n",
    "The steps are analogous with the tutorial: https://developers.sap.com/tutorials/ai-core-setup.html.\n",
    "Please open the tutorial and this notebook side-by-side for better understanding.\n",
    "\n",
    "## Step 1: Get your SAP AI Core keys\n",
    "\n",
    "*Please use your SAP Business Technology Platform cockpit* to generate keys for your SAP AI Core*. Refer Step 1 of the tutorial https://developers.sap.com/tutorials/ai-core-setup.html#0ef6df6b-1332-408e-9001-bece67af2880"
   ]
  },
  {
   "cell_type": "markdown",
   "metadata": {
    "id": "LZPRFYA3EOb8"
   },
   "source": [
    "## Step 2: Get tools to connect to SAP AI Core\n",
    "\n",
    "The step requires you to install Python and Jupyter.\n",
    "\n",
    "Install `SAP AI Core SDK`."
   ]
  },
  {
   "cell_type": "code",
   "execution_count": 2,
   "metadata": {
    "id": "I4M-96jMGmD1"
   },
   "outputs": [
    {
     "name": "stdout",
     "output_type": "stream",
     "text": [
      "Requirement already satisfied: ai-core-sdk in /home/matias/.local/lib/python3.9/site-packages (2.3.5)\n",
      "Requirement already satisfied: ai-api-client-sdk==2.1.2 in /home/matias/.local/lib/python3.9/site-packages (from ai-core-sdk) (2.1.2)\n",
      "Requirement already satisfied: click~=8.1 in /home/matias/.local/lib/python3.9/site-packages (from ai-core-sdk) (8.1.7)\n",
      "Requirement already satisfied: pyhumps~=3.0 in /home/matias/.local/lib/python3.9/site-packages (from ai-api-client-sdk==2.1.2->ai-core-sdk) (3.8.0)\n",
      "Requirement already satisfied: requests<3.0 in /usr/lib/python3/dist-packages (from ai-api-client-sdk==2.1.2->ai-core-sdk) (2.22.0)\n",
      "Requirement already satisfied: aenum~=3.1 in /home/matias/.local/lib/python3.9/site-packages (from ai-api-client-sdk==2.1.2->ai-core-sdk) (3.1.15)\n",
      "Note: you may need to restart the kernel to use updated packages.\n"
     ]
    }
   ],
   "source": [
    "%pip install ai-core-sdk"
   ]
  },
  {
   "cell_type": "markdown",
   "metadata": {
    "id": "tCgjKL6HEh2h"
   },
   "source": [
    "## Step 3: Connect with SAP AI Core\n",
    "\n",
    "*(Skip) The step requires you to start jupyter notebook using the below command*\n",
    "\n",
    "```jupyter notebook```"
   ]
  },
  {
   "cell_type": "markdown",
   "metadata": {
    "id": "Jmc1LRJsFILZ"
   },
   "source": [
    "## Step 4: Connect with SAP AI Core"
   ]
  },
  {
   "cell_type": "code",
   "execution_count": 4,
   "metadata": {
    "id": "42UyzaacD1MN"
   },
   "outputs": [],
   "source": [
    "import os\n",
    "import yaml\n",
    "# Load Library\n",
    "from ai_core_sdk.ai_core_v2_client import AICoreV2Client\n",
    "\n",
    "# Load environment variables from credentials.yaml\n",
    "with open('credentials.yaml', 'r') as file:\n",
    "    env_vars = yaml.safe_load(file)\n",
    "\n",
    "os.environ['AICORE_CLIENT_ID'] = env_vars['AICORE_CLIENT_ID']\n",
    "os.environ['AICORE_CLIENT_SECRET'] = env_vars['AICORE_CLIENT_SECRET']\n",
    "os.environ['AICORE_RESOURCE_GROUP'] = env_vars['AICORE_RESOURCE_GROUP']\n",
    "os.environ['AICORE_AUTH_URL'] = env_vars['AICORE_AUTH_URL']\n",
    "os.environ['AICORE_BASE_URL'] = env_vars['AICORE_BASE_URL']\n",
    "\n",
    "# Create Connection using environment variables\n",
    "ai_core_client = AICoreV2Client(\n",
    "    base_url=os.environ['AICORE_BASE_URL'] + \"/v2\",\n",
    "    auth_url=os.environ['AICORE_AUTH_URL'] + \"/oauth/token\",\n",
    "    client_id=os.environ['AICORE_CLIENT_ID'],\n",
    "    client_secret=os.environ['AICORE_CLIENT_SECRET']\n",
    ")"
   ]
  },
  {
   "cell_type": "markdown",
   "metadata": {
    "id": "YKK5bhKrFyAy"
   },
   "source": [
    "**Expected: No Output**\n",
    "\n",
    "The conncection `ai_core_client` is local to this notebook. You should use the snippet when you want to command SAP AI Core"
   ]
  },
  {
   "cell_type": "markdown",
   "metadata": {
    "id": "DQ-_8qWtFPPE"
   },
   "source": [
    "## Step 5: Perform an action in SAP AI Core\n",
    "\n",
    "List Git repositories you connected with your SAP AI Core instance"
   ]
  },
  {
   "cell_type": "code",
   "execution_count": 5,
   "metadata": {
    "id": "0dy1CvyCFOrH"
   },
   "outputs": [
    {
     "name": "stdout",
     "output_type": "stream",
     "text": [
      "4\n"
     ]
    }
   ],
   "source": [
    "response = ai_core_client.repositories.query()\n",
    "print(response.count)"
   ]
  },
  {
   "cell_type": "markdown",
   "metadata": {
    "id": "gvir-oJIFf09"
   },
   "source": [
    "- should out a numerical value, this implies that your connection works.\n",
    "\n",
    "**In case of error**: please check your keys in the previous step."
   ]
  },
  {
   "cell_type": "markdown",
   "metadata": {
    "id": "olFqkURzGLnX"
   },
   "source": [
    "## Step 6: Discover tool specific nuances\n",
    "\n",
    "*(Skip) The step highlights that some functions may not be common between `SAP AI Core SDK` and `AI API client SDK`*. Refer Step 6 of the tutorial: https://developers.sap.com/tutorials/ai-core-setup.html#e08224c4-33c4-4ec5-a25c-186e6b2d43a9"
   ]
  },
  {
   "cell_type": "markdown",
   "metadata": {
    "id": "Dog0KFCIG0IS"
   },
   "source": [
    "## Step 7: Find help provisions for your interface, and the SAP AI Core help page"
   ]
  },
  {
   "cell_type": "code",
   "execution_count": null,
   "metadata": {
    "id": "_ckpcCkNFu8E"
   },
   "outputs": [],
   "source": [
    "# List available functions/ modules\n",
    "print(dir(ai_core_client))"
   ]
  },
  {
   "cell_type": "code",
   "execution_count": null,
   "metadata": {
    "id": "O0sdGpvxH3kq"
   },
   "outputs": [],
   "source": [
    "# Read document of how to use function\n",
    "help(ai_core_client.scenario.query)"
   ]
  }
 ],
 "metadata": {
  "colab": {
   "name": "01_setup_tools_connect_sap_ai_core.ipynb",
   "provenance": []
  },
  "kernelspec": {
   "display_name": "Python 3 (ipykernel)",
   "language": "python",
   "name": "python3"
  },
  "language_info": {
   "codemirror_mode": {
    "name": "ipython",
    "version": 3
   },
   "file_extension": ".py",
   "mimetype": "text/x-python",
   "name": "python",
   "nbconvert_exporter": "python",
   "pygments_lexer": "ipython3",
   "version": "3.9.19"
  }
 },
 "nbformat": 4,
 "nbformat_minor": 4
}
