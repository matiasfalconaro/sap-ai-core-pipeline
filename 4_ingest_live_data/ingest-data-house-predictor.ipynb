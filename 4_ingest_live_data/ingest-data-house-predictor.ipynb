{
 "cells": [
  {
   "cell_type": "markdown",
   "id": "9579c95c-5199-4f75-97e4-442629c12926",
   "metadata": {},
   "source": [
    "# Ingest Live Data into your House Price Predictor with SAP AI Core\n",
    "\n",
    "Author: https://github.com/dhrubpaul\n",
    "\n",
    "You need Docker to complete this tutorial. If you are running this Jupyter notebook on web, we recommend to use your local system along with it.\n",
    "\n",
    "The steps are analogous with the tutorial: https://developers.sap.com/tutorials/ai-core-data.html\n",
    "Please open the tutorial and this notebook side-by-side for better understanding."
   ]
  },
  {
   "cell_type": "markdown",
   "id": "64056b4b-f92d-4d4e-8d52-10ab16632a7d",
   "metadata": {},
   "source": [
    "## Pre-requisite \n",
    "Create connection with SAP AI Core. Edit the below cell"
   ]
  },
  {
   "cell_type": "code",
   "execution_count": 2,
   "id": "d78a9fa4",
   "metadata": {},
   "outputs": [
    {
     "name": "stdout",
     "output_type": "stream",
     "text": [
      "Requirement already satisfied: ai_core_sdk in /home/matias/.local/lib/python3.9/site-packages (2.3.5)\n",
      "Requirement already satisfied: ai-api-client-sdk==2.1.2 in /home/matias/.local/lib/python3.9/site-packages (from ai_core_sdk) (2.1.2)\n",
      "Requirement already satisfied: click~=8.1 in /home/matias/.local/lib/python3.9/site-packages (from ai_core_sdk) (8.1.7)\n",
      "Requirement already satisfied: pyhumps~=3.0 in /home/matias/.local/lib/python3.9/site-packages (from ai-api-client-sdk==2.1.2->ai_core_sdk) (3.8.0)\n",
      "Requirement already satisfied: requests<3.0 in /usr/lib/python3/dist-packages (from ai-api-client-sdk==2.1.2->ai_core_sdk) (2.22.0)\n",
      "Requirement already satisfied: aenum~=3.1 in /home/matias/.local/lib/python3.9/site-packages (from ai-api-client-sdk==2.1.2->ai_core_sdk) (3.1.15)\n",
      "Note: you may need to restart the kernel to use updated packages.\n"
     ]
    }
   ],
   "source": [
    "%pip install ai_core_sdk"
   ]
  },
  {
   "cell_type": "code",
   "execution_count": 3,
   "id": "4ce8675a-2d8e-4537-8d9f-6f26dacae72c",
   "metadata": {},
   "outputs": [],
   "source": [
    "import os\n",
    "import yaml\n",
    "\n",
    "# Load Library\n",
    "from ai_core_sdk.ai_core_v2_client import AICoreV2Client\n",
    "\n",
    "with open('credentials.yaml', 'r') as file:\n",
    "    env_vars = yaml.safe_load(file)\n",
    "    \n",
    "os.environ['AICORE_CLIENT_ID'] = env_vars['AICORE_CLIENT_ID']\n",
    "os.environ['AICORE_CLIENT_SECRET'] = env_vars['AICORE_CLIENT_SECRET']\n",
    "os.environ['AICORE_RESOURCE_GROUP'] = env_vars['AICORE_RESOURCE_GROUP']\n",
    "os.environ['AICORE_AUTH_URL'] = env_vars['AICORE_AUTH_URL']\n",
    "os.environ['AICORE_BASE_URL'] = env_vars['AICORE_BASE_URL']\n",
    "\n",
    "# Create Connection\n",
    "ai_core_client = AICoreV2Client(\n",
    "    base_url = \"<YOUR_AI_API_URL>\" + \"/v2\", # The present SAP AI Core API version is 2\n",
    "    auth_url=  \"<YOUR_url>\" + \"/oauth/token\", # Suffix to add\n",
    "    client_id = \"<YOUR_clientid>\",\n",
    "    client_secret = \"<YOUR_clientsecret>\"\n",
    ")\n",
    "# no output is expected"
   ]
  },
  {
   "cell_type": "markdown",
   "id": "28e3e6a8-b9c3-4513-888d-464ba8d654c5",
   "metadata": {},
   "source": [
    "## Step 1: Modify AI code\n",
    "\n",
    "Refer step 1 of the tutorial: https://developers.sap.com/tutorials/ai-core-code.html#cf7b33ab-c455-47ee-a812-33a1ff587cf0\n",
    "\n",
    "## Step 2: Create placeholders for datasets in workflows\n",
    "\n",
    "*Refer step 2 of the tutorial: https://developers.sap.com/tutorials/ai-core-data.html#9d10c18c-a5af-4b8d-ab61-a54738e88dfd*\n",
    "\n",
    "## Step 3: Create placeholders for hyperparameter\n",
    "\n",
    "*Refer step 3 of the tutorial: https://developers.sap.com/tutorials/ai-core-data.html#6bd72f0d-4342-4a63-92af-5e598ec4c429*\n",
    "\n",
    "## Step 4: Observe your scenario and placeholder"
   ]
  },
  {
   "cell_type": "code",
   "execution_count": 8,
   "id": "7baacae0-bc29-4e1f-ac96-41505b17028c",
   "metadata": {},
   "outputs": [
    {
     "ename": "AIAPIAuthenticatorException",
     "evalue": "Could not retrieve Authorization token",
     "output_type": "error",
     "traceback": [
      "\u001b[0;31m---------------------------------------------------------------------------\u001b[0m",
      "\u001b[0;31mMissingSchema\u001b[0m                             Traceback (most recent call last)",
      "File \u001b[0;32m~/.local/lib/python3.9/site-packages/ai_api_client_sdk/helpers/authenticator.py:60\u001b[0m, in \u001b[0;36mAuthenticator.get_token\u001b[0;34m(self)\u001b[0m\n\u001b[1;32m     59\u001b[0m \u001b[38;5;28;01mif\u001b[39;00m \u001b[38;5;28mself\u001b[39m\u001b[38;5;241m.\u001b[39mclient_secret:\n\u001b[0;32m---> 60\u001b[0m     response \u001b[38;5;241m=\u001b[39m \u001b[43mrequests\u001b[49m\u001b[38;5;241;43m.\u001b[39;49m\u001b[43mpost\u001b[49m\u001b[43m(\u001b[49m\u001b[43murl\u001b[49m\u001b[38;5;241;43m=\u001b[39;49m\u001b[38;5;28;43mself\u001b[39;49m\u001b[38;5;241;43m.\u001b[39;49m\u001b[43murl\u001b[49m\u001b[43m,\u001b[49m\u001b[43m \u001b[49m\u001b[43mdata\u001b[49m\u001b[38;5;241;43m=\u001b[39;49m\u001b[43mdata\u001b[49m\u001b[43m)\u001b[49m\n\u001b[1;32m     61\u001b[0m \u001b[38;5;28;01melif\u001b[39;00m \u001b[38;5;28mself\u001b[39m\u001b[38;5;241m.\u001b[39mcert_file_path \u001b[38;5;129;01mand\u001b[39;00m \u001b[38;5;28mself\u001b[39m\u001b[38;5;241m.\u001b[39mkey_file_path:\n",
      "File \u001b[0;32m/usr/lib/python3/dist-packages/requests/api.py:116\u001b[0m, in \u001b[0;36mpost\u001b[0;34m(url, data, json, **kwargs)\u001b[0m\n\u001b[1;32m    105\u001b[0m \u001b[38;5;250m\u001b[39m\u001b[38;5;124mr\u001b[39m\u001b[38;5;124;03m\"\"\"Sends a POST request.\u001b[39;00m\n\u001b[1;32m    106\u001b[0m \n\u001b[1;32m    107\u001b[0m \u001b[38;5;124;03m:param url: URL for the new :class:`Request` object.\u001b[39;00m\n\u001b[0;32m   (...)\u001b[0m\n\u001b[1;32m    113\u001b[0m \u001b[38;5;124;03m:rtype: requests.Response\u001b[39;00m\n\u001b[1;32m    114\u001b[0m \u001b[38;5;124;03m\"\"\"\u001b[39;00m\n\u001b[0;32m--> 116\u001b[0m \u001b[38;5;28;01mreturn\u001b[39;00m \u001b[43mrequest\u001b[49m\u001b[43m(\u001b[49m\u001b[38;5;124;43m'\u001b[39;49m\u001b[38;5;124;43mpost\u001b[39;49m\u001b[38;5;124;43m'\u001b[39;49m\u001b[43m,\u001b[49m\u001b[43m \u001b[49m\u001b[43murl\u001b[49m\u001b[43m,\u001b[49m\u001b[43m \u001b[49m\u001b[43mdata\u001b[49m\u001b[38;5;241;43m=\u001b[39;49m\u001b[43mdata\u001b[49m\u001b[43m,\u001b[49m\u001b[43m \u001b[49m\u001b[43mjson\u001b[49m\u001b[38;5;241;43m=\u001b[39;49m\u001b[43mjson\u001b[49m\u001b[43m,\u001b[49m\u001b[43m \u001b[49m\u001b[38;5;241;43m*\u001b[39;49m\u001b[38;5;241;43m*\u001b[39;49m\u001b[43mkwargs\u001b[49m\u001b[43m)\u001b[49m\n",
      "File \u001b[0;32m/usr/lib/python3/dist-packages/requests/api.py:60\u001b[0m, in \u001b[0;36mrequest\u001b[0;34m(method, url, **kwargs)\u001b[0m\n\u001b[1;32m     59\u001b[0m \u001b[38;5;28;01mwith\u001b[39;00m sessions\u001b[38;5;241m.\u001b[39mSession() \u001b[38;5;28;01mas\u001b[39;00m session:\n\u001b[0;32m---> 60\u001b[0m     \u001b[38;5;28;01mreturn\u001b[39;00m \u001b[43msession\u001b[49m\u001b[38;5;241;43m.\u001b[39;49m\u001b[43mrequest\u001b[49m\u001b[43m(\u001b[49m\u001b[43mmethod\u001b[49m\u001b[38;5;241;43m=\u001b[39;49m\u001b[43mmethod\u001b[49m\u001b[43m,\u001b[49m\u001b[43m \u001b[49m\u001b[43murl\u001b[49m\u001b[38;5;241;43m=\u001b[39;49m\u001b[43murl\u001b[49m\u001b[43m,\u001b[49m\u001b[43m \u001b[49m\u001b[38;5;241;43m*\u001b[39;49m\u001b[38;5;241;43m*\u001b[39;49m\u001b[43mkwargs\u001b[49m\u001b[43m)\u001b[49m\n",
      "File \u001b[0;32m/usr/lib/python3/dist-packages/requests/sessions.py:521\u001b[0m, in \u001b[0;36mSession.request\u001b[0;34m(self, method, url, params, data, headers, cookies, files, auth, timeout, allow_redirects, proxies, hooks, stream, verify, cert, json)\u001b[0m\n\u001b[1;32m    509\u001b[0m req \u001b[38;5;241m=\u001b[39m Request(\n\u001b[1;32m    510\u001b[0m     method\u001b[38;5;241m=\u001b[39mmethod\u001b[38;5;241m.\u001b[39mupper(),\n\u001b[1;32m    511\u001b[0m     url\u001b[38;5;241m=\u001b[39murl,\n\u001b[0;32m   (...)\u001b[0m\n\u001b[1;32m    519\u001b[0m     hooks\u001b[38;5;241m=\u001b[39mhooks,\n\u001b[1;32m    520\u001b[0m )\n\u001b[0;32m--> 521\u001b[0m prep \u001b[38;5;241m=\u001b[39m \u001b[38;5;28;43mself\u001b[39;49m\u001b[38;5;241;43m.\u001b[39;49m\u001b[43mprepare_request\u001b[49m\u001b[43m(\u001b[49m\u001b[43mreq\u001b[49m\u001b[43m)\u001b[49m\n\u001b[1;32m    523\u001b[0m proxies \u001b[38;5;241m=\u001b[39m proxies \u001b[38;5;129;01mor\u001b[39;00m {}\n",
      "File \u001b[0;32m/usr/lib/python3/dist-packages/requests/sessions.py:454\u001b[0m, in \u001b[0;36mSession.prepare_request\u001b[0;34m(self, request)\u001b[0m\n\u001b[1;32m    453\u001b[0m p \u001b[38;5;241m=\u001b[39m PreparedRequest()\n\u001b[0;32m--> 454\u001b[0m \u001b[43mp\u001b[49m\u001b[38;5;241;43m.\u001b[39;49m\u001b[43mprepare\u001b[49m\u001b[43m(\u001b[49m\n\u001b[1;32m    455\u001b[0m \u001b[43m    \u001b[49m\u001b[43mmethod\u001b[49m\u001b[38;5;241;43m=\u001b[39;49m\u001b[43mrequest\u001b[49m\u001b[38;5;241;43m.\u001b[39;49m\u001b[43mmethod\u001b[49m\u001b[38;5;241;43m.\u001b[39;49m\u001b[43mupper\u001b[49m\u001b[43m(\u001b[49m\u001b[43m)\u001b[49m\u001b[43m,\u001b[49m\n\u001b[1;32m    456\u001b[0m \u001b[43m    \u001b[49m\u001b[43murl\u001b[49m\u001b[38;5;241;43m=\u001b[39;49m\u001b[43mrequest\u001b[49m\u001b[38;5;241;43m.\u001b[39;49m\u001b[43murl\u001b[49m\u001b[43m,\u001b[49m\n\u001b[1;32m    457\u001b[0m \u001b[43m    \u001b[49m\u001b[43mfiles\u001b[49m\u001b[38;5;241;43m=\u001b[39;49m\u001b[43mrequest\u001b[49m\u001b[38;5;241;43m.\u001b[39;49m\u001b[43mfiles\u001b[49m\u001b[43m,\u001b[49m\n\u001b[1;32m    458\u001b[0m \u001b[43m    \u001b[49m\u001b[43mdata\u001b[49m\u001b[38;5;241;43m=\u001b[39;49m\u001b[43mrequest\u001b[49m\u001b[38;5;241;43m.\u001b[39;49m\u001b[43mdata\u001b[49m\u001b[43m,\u001b[49m\n\u001b[1;32m    459\u001b[0m \u001b[43m    \u001b[49m\u001b[43mjson\u001b[49m\u001b[38;5;241;43m=\u001b[39;49m\u001b[43mrequest\u001b[49m\u001b[38;5;241;43m.\u001b[39;49m\u001b[43mjson\u001b[49m\u001b[43m,\u001b[49m\n\u001b[1;32m    460\u001b[0m \u001b[43m    \u001b[49m\u001b[43mheaders\u001b[49m\u001b[38;5;241;43m=\u001b[39;49m\u001b[43mmerge_setting\u001b[49m\u001b[43m(\u001b[49m\u001b[43mrequest\u001b[49m\u001b[38;5;241;43m.\u001b[39;49m\u001b[43mheaders\u001b[49m\u001b[43m,\u001b[49m\u001b[43m \u001b[49m\u001b[38;5;28;43mself\u001b[39;49m\u001b[38;5;241;43m.\u001b[39;49m\u001b[43mheaders\u001b[49m\u001b[43m,\u001b[49m\u001b[43m \u001b[49m\u001b[43mdict_class\u001b[49m\u001b[38;5;241;43m=\u001b[39;49m\u001b[43mCaseInsensitiveDict\u001b[49m\u001b[43m)\u001b[49m\u001b[43m,\u001b[49m\n\u001b[1;32m    461\u001b[0m \u001b[43m    \u001b[49m\u001b[43mparams\u001b[49m\u001b[38;5;241;43m=\u001b[39;49m\u001b[43mmerge_setting\u001b[49m\u001b[43m(\u001b[49m\u001b[43mrequest\u001b[49m\u001b[38;5;241;43m.\u001b[39;49m\u001b[43mparams\u001b[49m\u001b[43m,\u001b[49m\u001b[43m \u001b[49m\u001b[38;5;28;43mself\u001b[39;49m\u001b[38;5;241;43m.\u001b[39;49m\u001b[43mparams\u001b[49m\u001b[43m)\u001b[49m\u001b[43m,\u001b[49m\n\u001b[1;32m    462\u001b[0m \u001b[43m    \u001b[49m\u001b[43mauth\u001b[49m\u001b[38;5;241;43m=\u001b[39;49m\u001b[43mmerge_setting\u001b[49m\u001b[43m(\u001b[49m\u001b[43mauth\u001b[49m\u001b[43m,\u001b[49m\u001b[43m \u001b[49m\u001b[38;5;28;43mself\u001b[39;49m\u001b[38;5;241;43m.\u001b[39;49m\u001b[43mauth\u001b[49m\u001b[43m)\u001b[49m\u001b[43m,\u001b[49m\n\u001b[1;32m    463\u001b[0m \u001b[43m    \u001b[49m\u001b[43mcookies\u001b[49m\u001b[38;5;241;43m=\u001b[39;49m\u001b[43mmerged_cookies\u001b[49m\u001b[43m,\u001b[49m\n\u001b[1;32m    464\u001b[0m \u001b[43m    \u001b[49m\u001b[43mhooks\u001b[49m\u001b[38;5;241;43m=\u001b[39;49m\u001b[43mmerge_hooks\u001b[49m\u001b[43m(\u001b[49m\u001b[43mrequest\u001b[49m\u001b[38;5;241;43m.\u001b[39;49m\u001b[43mhooks\u001b[49m\u001b[43m,\u001b[49m\u001b[43m \u001b[49m\u001b[38;5;28;43mself\u001b[39;49m\u001b[38;5;241;43m.\u001b[39;49m\u001b[43mhooks\u001b[49m\u001b[43m)\u001b[49m\u001b[43m,\u001b[49m\n\u001b[1;32m    465\u001b[0m \u001b[43m\u001b[49m\u001b[43m)\u001b[49m\n\u001b[1;32m    466\u001b[0m \u001b[38;5;28;01mreturn\u001b[39;00m p\n",
      "File \u001b[0;32m/usr/lib/python3/dist-packages/requests/models.py:313\u001b[0m, in \u001b[0;36mPreparedRequest.prepare\u001b[0;34m(self, method, url, headers, files, data, params, auth, cookies, hooks, json)\u001b[0m\n\u001b[1;32m    312\u001b[0m \u001b[38;5;28mself\u001b[39m\u001b[38;5;241m.\u001b[39mprepare_method(method)\n\u001b[0;32m--> 313\u001b[0m \u001b[38;5;28;43mself\u001b[39;49m\u001b[38;5;241;43m.\u001b[39;49m\u001b[43mprepare_url\u001b[49m\u001b[43m(\u001b[49m\u001b[43murl\u001b[49m\u001b[43m,\u001b[49m\u001b[43m \u001b[49m\u001b[43mparams\u001b[49m\u001b[43m)\u001b[49m\n\u001b[1;32m    314\u001b[0m \u001b[38;5;28mself\u001b[39m\u001b[38;5;241m.\u001b[39mprepare_headers(headers)\n",
      "File \u001b[0;32m/usr/lib/python3/dist-packages/requests/models.py:387\u001b[0m, in \u001b[0;36mPreparedRequest.prepare_url\u001b[0;34m(self, url, params)\u001b[0m\n\u001b[1;32m    385\u001b[0m     error \u001b[38;5;241m=\u001b[39m error\u001b[38;5;241m.\u001b[39mformat(to_native_string(url, \u001b[38;5;124m'\u001b[39m\u001b[38;5;124mutf8\u001b[39m\u001b[38;5;124m'\u001b[39m))\n\u001b[0;32m--> 387\u001b[0m     \u001b[38;5;28;01mraise\u001b[39;00m MissingSchema(error)\n\u001b[1;32m    389\u001b[0m \u001b[38;5;28;01mif\u001b[39;00m \u001b[38;5;129;01mnot\u001b[39;00m host:\n",
      "\u001b[0;31mMissingSchema\u001b[0m: Invalid URL '<YOUR_url>/oauth/token': No schema supplied. Perhaps you meant http://<YOUR_url>/oauth/token?",
      "\nThe above exception was the direct cause of the following exception:\n",
      "\u001b[0;31mAIAPIAuthenticatorException\u001b[0m               Traceback (most recent call last)",
      "Cell \u001b[0;32mIn[8], line 9\u001b[0m\n\u001b[1;32m      6\u001b[0m scenario_id \u001b[38;5;241m=\u001b[39m config[\u001b[38;5;124m'\u001b[39m\u001b[38;5;124mINGEST_DATA_SCENARIO_ID\u001b[39m\u001b[38;5;124m'\u001b[39m]\n\u001b[1;32m      7\u001b[0m resource_group \u001b[38;5;241m=\u001b[39m config[\u001b[38;5;124m'\u001b[39m\u001b[38;5;124mAICORE_RESOURCE_GROUP\u001b[39m\u001b[38;5;124m'\u001b[39m]\n\u001b[0;32m----> 9\u001b[0m response \u001b[38;5;241m=\u001b[39m \u001b[43mai_core_client\u001b[49m\u001b[38;5;241;43m.\u001b[39;49m\u001b[43mexecutable\u001b[49m\u001b[38;5;241;43m.\u001b[39;49m\u001b[43mquery\u001b[49m\u001b[43m(\u001b[49m\n\u001b[1;32m     10\u001b[0m \u001b[43m    \u001b[49m\u001b[43mscenario_id\u001b[49m\u001b[43m \u001b[49m\u001b[38;5;241;43m=\u001b[39;49m\u001b[43m \u001b[49m\u001b[43mscenario_id\u001b[49m\u001b[43m,\u001b[49m\u001b[43m \u001b[49m\u001b[43mresource_group\u001b[49m\u001b[43m \u001b[49m\u001b[38;5;241;43m=\u001b[39;49m\u001b[43m \u001b[49m\u001b[43mresource_group\u001b[49m\n\u001b[1;32m     11\u001b[0m \u001b[43m)\u001b[49m\n\u001b[1;32m     13\u001b[0m \u001b[38;5;28;01mfor\u001b[39;00m executable \u001b[38;5;129;01min\u001b[39;00m response\u001b[38;5;241m.\u001b[39mresources:\n\u001b[1;32m     14\u001b[0m     \u001b[38;5;28;01mfor\u001b[39;00m key, value \u001b[38;5;129;01min\u001b[39;00m executable\u001b[38;5;241m.\u001b[39m\u001b[38;5;18m__dict__\u001b[39m\u001b[38;5;241m.\u001b[39mitems():\n",
      "File \u001b[0;32m~/.local/lib/python3.9/site-packages/ai_api_client_sdk/resource_clients/executable_client.py:58\u001b[0m, in \u001b[0;36mExecutableClient.query\u001b[0;34m(self, scenario_id, version_id, resource_group)\u001b[0m\n\u001b[1;32m     38\u001b[0m \u001b[38;5;250m\u001b[39m\u001b[38;5;124;03m\"\"\"Queries the executables.\u001b[39;00m\n\u001b[1;32m     39\u001b[0m \n\u001b[1;32m     40\u001b[0m \u001b[38;5;124;03m:param scenario_id: ID of the scenario the executables should belong to, defaults to None\u001b[39;00m\n\u001b[0;32m   (...)\u001b[0m\n\u001b[1;32m     55\u001b[0m \u001b[38;5;124;03m:rtype: class:`ai_api_client_sdk.models.executable_query_response.ExecutableQueryResponse`\u001b[39;00m\n\u001b[1;32m     56\u001b[0m \u001b[38;5;124;03m\"\"\"\u001b[39;00m\n\u001b[1;32m     57\u001b[0m params \u001b[38;5;241m=\u001b[39m \u001b[38;5;28mself\u001b[39m\u001b[38;5;241m.\u001b[39m_form_query_params(version_id\u001b[38;5;241m=\u001b[39mversion_id)\n\u001b[0;32m---> 58\u001b[0m response_dict \u001b[38;5;241m=\u001b[39m \u001b[38;5;28;43mself\u001b[39;49m\u001b[38;5;241;43m.\u001b[39;49m\u001b[43mrest_client\u001b[49m\u001b[38;5;241;43m.\u001b[39;49m\u001b[43mget\u001b[49m\u001b[43m(\u001b[49m\u001b[43mpath\u001b[49m\u001b[38;5;241;43m=\u001b[39;49m\u001b[38;5;124;43mf\u001b[39;49m\u001b[38;5;124;43m'\u001b[39;49m\u001b[38;5;124;43m/scenarios/\u001b[39;49m\u001b[38;5;132;43;01m{\u001b[39;49;00m\u001b[43mscenario_id\u001b[49m\u001b[38;5;132;43;01m}\u001b[39;49;00m\u001b[38;5;124;43m/executables\u001b[39;49m\u001b[38;5;124;43m'\u001b[39;49m\u001b[43m,\u001b[49m\u001b[43m \u001b[49m\u001b[43mparams\u001b[49m\u001b[38;5;241;43m=\u001b[39;49m\u001b[43mparams\u001b[49m\u001b[43m,\u001b[49m\n\u001b[1;32m     59\u001b[0m \u001b[43m                                     \u001b[49m\u001b[43mresource_group\u001b[49m\u001b[38;5;241;43m=\u001b[39;49m\u001b[43mresource_group\u001b[49m\u001b[43m)\u001b[49m\n\u001b[1;32m     60\u001b[0m \u001b[38;5;28;01mreturn\u001b[39;00m ExecutableQueryResponse\u001b[38;5;241m.\u001b[39mfrom_dict(response_dict)\n",
      "File \u001b[0;32m~/.local/lib/python3.9/site-packages/ai_api_client_sdk/helpers/rest_client.py:168\u001b[0m, in \u001b[0;36mRestClient.get\u001b[0;34m(self, path, params, headers, resource_group)\u001b[0m\n\u001b[1;32m    142\u001b[0m \u001b[38;5;28;01mdef\u001b[39;00m \u001b[38;5;21mget\u001b[39m(\u001b[38;5;28mself\u001b[39m, path: \u001b[38;5;28mstr\u001b[39m, params: Dict[\u001b[38;5;28mstr\u001b[39m, \u001b[38;5;28mstr\u001b[39m] \u001b[38;5;241m=\u001b[39m \u001b[38;5;28;01mNone\u001b[39;00m, headers: Dict[\u001b[38;5;28mstr\u001b[39m, \u001b[38;5;28mstr\u001b[39m] \u001b[38;5;241m=\u001b[39m \u001b[38;5;28;01mNone\u001b[39;00m,\n\u001b[1;32m    143\u001b[0m         resource_group: \u001b[38;5;28mstr\u001b[39m \u001b[38;5;241m=\u001b[39m \u001b[38;5;28;01mNone\u001b[39;00m) \u001b[38;5;241m-\u001b[39m\u001b[38;5;241m>\u001b[39m Union[\u001b[38;5;28mdict\u001b[39m, \u001b[38;5;28mint\u001b[39m]:\n\u001b[1;32m    144\u001b[0m \u001b[38;5;250m    \u001b[39m\u001b[38;5;124;03m\"\"\"Sends a GET request to the server.\u001b[39;00m\n\u001b[1;32m    145\u001b[0m \n\u001b[1;32m    146\u001b[0m \u001b[38;5;124;03m    :param path: path of the endpoint the request should be sent to\u001b[39;00m\n\u001b[0;32m   (...)\u001b[0m\n\u001b[1;32m    166\u001b[0m \u001b[38;5;124;03m    :rtype: Union[dict, int]\u001b[39;00m\n\u001b[1;32m    167\u001b[0m \u001b[38;5;124;03m    \"\"\"\u001b[39;00m\n\u001b[0;32m--> 168\u001b[0m     \u001b[38;5;28;01mreturn\u001b[39;00m \u001b[38;5;28;43mself\u001b[39;49m\u001b[38;5;241;43m.\u001b[39;49m\u001b[43m_handle_request\u001b[49m\u001b[43m(\u001b[49m\u001b[38;5;124;43m'\u001b[39;49m\u001b[38;5;124;43mget\u001b[39;49m\u001b[38;5;124;43m'\u001b[39;49m\u001b[43m,\u001b[49m\u001b[43m \u001b[49m\u001b[43mpath\u001b[49m\u001b[38;5;241;43m=\u001b[39;49m\u001b[43mpath\u001b[49m\u001b[43m,\u001b[49m\u001b[43m \u001b[49m\u001b[43mparams\u001b[49m\u001b[38;5;241;43m=\u001b[39;49m\u001b[43mparams\u001b[49m\u001b[43m,\u001b[49m\u001b[43m \u001b[49m\u001b[43mheaders\u001b[49m\u001b[38;5;241;43m=\u001b[39;49m\u001b[43mheaders\u001b[49m\u001b[43m,\u001b[49m\u001b[43m \u001b[49m\u001b[43mresource_group\u001b[49m\u001b[38;5;241;43m=\u001b[39;49m\u001b[43mresource_group\u001b[49m\u001b[43m)\u001b[49m\n",
      "File \u001b[0;32m~/.local/lib/python3.9/site-packages/ai_api_client_sdk/helpers/rest_client.py:73\u001b[0m, in \u001b[0;36mRestClient._handle_request\u001b[0;34m(self, method, path, params, body_json, headers, resource_group)\u001b[0m\n\u001b[1;32m     71\u001b[0m headers \u001b[38;5;241m=\u001b[39m headers \u001b[38;5;129;01mor\u001b[39;00m {}\n\u001b[1;32m     72\u001b[0m headers\u001b[38;5;241m.\u001b[39mupdate(\u001b[38;5;28mself\u001b[39m\u001b[38;5;241m.\u001b[39mheaders\u001b[38;5;241m.\u001b[39mcopy())\n\u001b[0;32m---> 73\u001b[0m headers[\u001b[38;5;124m'\u001b[39m\u001b[38;5;124mAuthorization\u001b[39m\u001b[38;5;124m'\u001b[39m] \u001b[38;5;241m=\u001b[39m \u001b[38;5;28;43mself\u001b[39;49m\u001b[38;5;241;43m.\u001b[39;49m\u001b[43mget_token\u001b[49m\u001b[43m(\u001b[49m\u001b[43m)\u001b[49m\n\u001b[1;32m     74\u001b[0m \u001b[38;5;28;01mif\u001b[39;00m resource_group:\n\u001b[1;32m     75\u001b[0m     headers[\u001b[38;5;28mself\u001b[39m\u001b[38;5;241m.\u001b[39mresource_group_header] \u001b[38;5;241m=\u001b[39m resource_group\n",
      "File \u001b[0;32m~/.local/lib/python3.9/site-packages/ai_api_client_sdk/helpers/authenticator.py:71\u001b[0m, in \u001b[0;36mAuthenticator.get_token\u001b[0;34m(self)\u001b[0m\n\u001b[1;32m     69\u001b[0m     \u001b[38;5;28;01mraise\u001b[39;00m authenticator_exception\n\u001b[1;32m     70\u001b[0m \u001b[38;5;28;01mexcept\u001b[39;00m \u001b[38;5;167;01mException\u001b[39;00m \u001b[38;5;28;01mas\u001b[39;00m exception:  \u001b[38;5;66;03m# pylint:disable=broad-except\u001b[39;00m\n\u001b[0;32m---> 71\u001b[0m     \u001b[38;5;28;01mraise\u001b[39;00m AIAPIAuthenticatorException(status_code\u001b[38;5;241m=\u001b[39m\u001b[38;5;241m500\u001b[39m, error_message\u001b[38;5;241m=\u001b[39merror_msg) \u001b[38;5;28;01mfrom\u001b[39;00m \u001b[38;5;21;01mexception\u001b[39;00m\n\u001b[1;32m     73\u001b[0m \u001b[38;5;28;01mif\u001b[39;00m status_code \u001b[38;5;241m==\u001b[39m \u001b[38;5;241m400\u001b[39m:\n\u001b[1;32m     74\u001b[0m     \u001b[38;5;28;01mraise\u001b[39;00m AIAPIAuthenticatorInvalidRequestException(error_message\u001b[38;5;241m=\u001b[39merror_msg)\n",
      "\u001b[0;31mAIAPIAuthenticatorException\u001b[0m: Could not retrieve Authorization token"
     ]
    }
   ],
   "source": [
    "import yaml\n",
    "\n",
    "with open ('credentials.yaml', 'r') as file:\n",
    "    config = yaml.safe_load(file)\n",
    "\n",
    "scenario_id = config['INGEST_DATA_SCENARIO_ID']\n",
    "resource_group = config['AICORE_RESOURCE_GROUP']\n",
    "\n",
    "response = ai_core_client.executable.query(\n",
    "    scenario_id = scenario_id, resource_group = resource_group\n",
    ")\n",
    "\n",
    "for executable in response.resources:\n",
    "    for key, value in executable.__dict__.items():\n",
    "        if \"artifact\" in key or \"parameter\" in key:\n",
    "            print(f\"{key} :\")\n",
    "            for placeholder in value:\n",
    "                print(f\" {placeholder.__dict__}\")\n",
    "        else:\n",
    "            print(f\"{key} : {value}\")"
   ]
  },
  {
   "cell_type": "markdown",
   "id": "8a769079-c897-46fc-8c4b-b51c8ff33ce2",
   "metadata": {},
   "source": [
    "## Step 5: Create cloud storage for datasets and models\n",
    "\n",
    "Refer step 5 of the tutorial: https://developers.sap.com/tutorials/ai-core-data.html#f85e50fd-5e5b-40d1-8159-a8e6e1cb93c0\n",
    "\n",
    "## Step 6: Connect local system to AWS S3\n",
    "\n",
    "Refer step 6 of the tutorial: https://developers.sap.com/tutorials/ai-core-data.html#13bce519-1304-484c-aaf2-cd4296531a54\n",
    "\n",
    "## Step 7: Upload datasets to AWS S3\n",
    "\n",
    "Refer step 7 of the tutorial: https://developers.sap.com/tutorials/ai-core-data.html#0e5a8f81-d0cc-48e3-9da7-a8847e8c338d\n",
    "\n",
    "## Step 8: Store an object store secret in SAP AI Core"
   ]
  },
  {
   "cell_type": "code",
   "execution_count": null,
   "id": "00c02461-ba54-4eba-b7c0-6f805a3c380d",
   "metadata": {},
   "outputs": [],
   "source": [
    "# Create object Store secret\n",
    "response = ai_core_client.object_store_secrets.create(\n",
    "    name = \"mys3\", # identifier for this secret within your SAP AI Core\n",
    "    path_prefix = \"example-dataset/house-price-toy\", # path that we want to limit restrict this secret access to\n",
    "    type = \"S3\",\n",
    "    data = { # Dictionary of credentials of AWS\n",
    "        \"AWS_ACCESS_KEY_ID\": \"<YOUR_AWS_ID>\",\n",
    "        \"AWS_SECRET_ACCESS_KEY\": \"<YOUR_AWS_KEY>\"\n",
    "    },\n",
    "    bucket = \"<YOUR_BUCKET_NAME>\", # Edit this\n",
    "    region = \"eu-central-1\", # Edit this\n",
    "    endpoint = \"s3-eu-central-1.amazonaws.com\", # Edit this\n",
    "    resource_group = \"default\" # object store secret are restricted within this resource group. you may change this when creating secret for another resource group.\n",
    ")\n",
    "print(response.__dict__)"
   ]
  },
  {
   "cell_type": "markdown",
   "id": "b95d7111-a60e-426f-b9b0-47e66bc70966",
   "metadata": {},
   "source": [
    "## Step 9: Create artifact to specify folder of dataset"
   ]
  },
  {
   "cell_type": "code",
   "execution_count": null,
   "id": "e72b5bfa-0a07-4f4c-8454-aa58a3aa091d",
   "metadata": {},
   "outputs": [],
   "source": [
    "# Create Artifact\n",
    "from ai_api_client_sdk.models.artifact import Artifact\n",
    "from ai_api_client_sdk.models.label import Label\n",
    "\n",
    "response = ai_core_client.artifact.create(\n",
    "    name = \"House Price Dataset 101\", # Custom Non-unqiue identifier\n",
    "    kind = Artifact.Kind.DATASET,\n",
    "    url = \"ai://mys3/data/jan\", #\n",
    "    scenario_id = \"learning-datalines\",\n",
    "    description = \"Prices in the month of Jan\",\n",
    "    labels = [\n",
    "        Label(key=\"ext.ai.sap.com/month\", value=\"Jan\"), # any descriptive key-value pair, helps in filtering, key must have the prefix ext.ai.sap.com/\n",
    "    ],\n",
    "    resource_group = \"default\" # required to restrict object store secret usage within a resource group\n",
    ")\n",
    "\n",
    "print(response.__dict__)"
   ]
  },
  {
   "cell_type": "markdown",
   "id": "78269b3a-2369-4c89-bf9a-82a0b298e075",
   "metadata": {
    "tags": []
   },
   "source": [
    "## Step 10: Locate artifacts"
   ]
  },
  {
   "cell_type": "code",
   "execution_count": null,
   "id": "5343f8fd-e1da-43a0-9f0a-585742ad31a5",
   "metadata": {},
   "outputs": [],
   "source": [
    "### List Artifacts\n",
    "response = ai_core_client.artifact.query(resource_group=\"default\")\n",
    "#\n",
    "for artifact in response.resources:\n",
    "    for key, value in artifact.__dict__.items():\n",
    "        if \"label\" in key:\n",
    "            if value is None:\n",
    "                continue\n",
    "            print(f\"{key} :\")\n",
    "            for label in value:\n",
    "                print(f\" {label.__dict__}\")\n",
    "        else:\n",
    "            print(f\"{key} : {value}\")\n",
    "    print('-'*3)"
   ]
  },
  {
   "cell_type": "markdown",
   "id": "930a88b6-412a-4be7-8984-4d37c57163a5",
   "metadata": {},
   "source": [
    "*Please refer to step 5: https://developers.sap.com/tutorials/ai-core-code.html#beb0c055-7441-41d3-a285-304a1c41b6fb*"
   ]
  },
  {
   "cell_type": "markdown",
   "id": "2f6b8c09-8f82-40b7-a889-cce8e339383e",
   "metadata": {},
   "source": [
    "## Step 11: Use artifacts with workflows using configuration"
   ]
  },
  {
   "cell_type": "code",
   "execution_count": null,
   "id": "1b0906f7-52e4-49c2-80cd-630c6f0da7d5",
   "metadata": {},
   "outputs": [],
   "source": [
    "from ai_api_client_sdk.models.parameter_binding import ParameterBinding\n",
    "from ai_api_client_sdk.models.input_artifact_binding import InputArtifactBinding\n",
    "\n",
    "response = ai_core_client.configuration.create(\n",
    "    name = \"House Price January 1\",\n",
    "    scenario_id = \"learning-datalines\",\n",
    "    executable_id = \"data-pipeline\",\n",
    "    input_artifact_bindings = [\n",
    "        InputArtifactBinding(key = \"housedataset\", artifact_id = \"<YOUR_JAN_ARTIFACT_ID>\") # placeholder as name\n",
    "    ],\n",
    "    parameter_bindings = [\n",
    "        ParameterBinding(key = \"DT_MAX_DEPTH\", value = \"3\") # placeholder name as key\n",
    "    ],\n",
    "    resource_group = \"default\"\n",
    ")\n",
    "print(response.__dict__)\n"
   ]
  },
  {
   "cell_type": "markdown",
   "id": "638eb8c5-c57a-4af5-a7c4-dc4a28e9f80a",
   "metadata": {},
   "source": [
    "## Step 12: Run you workflow using execution"
   ]
  },
  {
   "cell_type": "code",
   "execution_count": null,
   "id": "4adb42fd-ae5a-4d2a-aa2e-4cc3593edb87",
   "metadata": {},
   "outputs": [],
   "source": [
    "# Create execution\n",
    "response = ai_core_client.execution.create(\n",
    "    configuration_id = '<YOUR_CONFIGURATION_ID>',\n",
    "    resource_group = 'default'\n",
    ")\n",
    "\n",
    "response.__dict__\n"
   ]
  },
  {
   "cell_type": "code",
   "execution_count": null,
   "id": "df57f9dc-6298-4a5f-9f5d-486bf510713c",
   "metadata": {},
   "outputs": [],
   "source": [
    "# show execution logs\n",
    "response = ai_core_client.execution.query_logs(\n",
    "    execution_id = '<YOUR_EXECUTION_ID>',\n",
    "    resource_group = 'default',\n",
    "    start = datetime(1990, 1, 1) # Optional, else shows logs of last 1 hour\n",
    ")\n",
    "\n",
    "for log in response.data.result:\n",
    "    print(log.__dict__)\n"
   ]
  },
  {
   "cell_type": "markdown",
   "id": "2d395434-4642-4081-af1f-9e8cbf6f7ba1",
   "metadata": {},
   "source": [
    "## Step 13: Set model pipeline\n",
    "\n",
    "*Refer step 13 of the tutorial: https://developers.sap.com/tutorials/ai-core-data.html#8a3de5a6-565a-4836-9ccf-4d4cbe0c4252*\n",
    "\n",
    "## Step 14: Create required object store secret `default` for model\n"
   ]
  },
  {
   "cell_type": "code",
   "execution_count": null,
   "id": "683914ca-394e-4657-828f-9bf81cb80ecb",
   "metadata": {},
   "outputs": [],
   "source": [
    "# Create object Store secret for placing models to S3\n",
    "response = ai_core_client.object_store_secrets.create(\n",
    "    name = \"default\", # name must be `default`, please DONT correlate with resource group name (which is also default here), these are not related.\n",
    "    path_prefix = \"example-dataset/house-price-toy/model\", # ensure path prefix is targeted to where you want your models subdirectory to be located\n",
    "    type = \"S3\",\n",
    "    data = { # Dictionary of credentials of AWS\n",
    "        \"AWS_ACCESS_KEY_ID\": \"<YOUR_AWS_ID>\",\n",
    "        \"AWS_SECRET_ACCESS_KEY\": \"<YOUR_AWS_KEY>\"\n",
    "    },\n",
    "    bucket = \"<YOUR_BUCKET_NAME>\", # bucket name,\n",
    "    region = \"eu-central-1\", # Edit this\n",
    "    endpoint = \"s3-eu-central-1.amazonaws.com\", # Edit this\n",
    "    resource_group = \"default\"\n",
    ")\n",
    "print(response.__dict__)\n"
   ]
  },
  {
   "cell_type": "markdown",
   "id": "55470b8c-f268-4e98-a73b-66e7be32277c",
   "metadata": {},
   "source": [
    "## Step 15: Create another configuration with new data"
   ]
  },
  {
   "cell_type": "code",
   "execution_count": null,
   "id": "4bdb8625-bbdc-4080-953d-1e2e3d2f7baa",
   "metadata": {},
   "outputs": [],
   "source": [
    "from ai_api_client_sdk.models.parameter_binding import ParameterBinding\n",
    "from ai_api_client_sdk.models.input_artifact_binding import InputArtifactBinding\n",
    "\n",
    "response = ai_core_client.configuration.create(\n",
    "    name = \"House Price Feburary 1\",\n",
    "    scenario_id = \"learning-datalines\",\n",
    "    executable_id = \"data-pipeline\",\n",
    "    input_artifact_bindings = [\n",
    "        InputArtifactBinding(key = \"housedataset\", artifact_id = \"<YOUR_FEB_ARTIFACT_ID>\") # placeholder as name\n",
    "    ],\n",
    "    parameter_bindings = [\n",
    "        ParameterBinding(key = \"DT_MAX_DEPTH\", value = \"5\") # placeholder name as key\n",
    "    ],\n",
    "    resource_group = \"default\"\n",
    ")\n",
    "print(response.__dict__)\n"
   ]
  },
  {
   "cell_type": "markdown",
   "id": "5fa1f4ca-96f8-4fad-8bd7-8e0e0af45543",
   "metadata": {},
   "source": [
    "## Step 16: Create execution"
   ]
  },
  {
   "cell_type": "code",
   "execution_count": null,
   "id": "9f879cf7-cad0-43d5-8764-f26aa030967c",
   "metadata": {},
   "outputs": [],
   "source": [
    "# execute this multiple times in interval of 30 seconds\n",
    "response = ai_core_client.execution.get(\n",
    "    execution_id = '<YOUR_EXECUTION_ID>',\n",
    "    resource_group = 'default'\n",
    ")\n",
    "\n",
    "for key, value in response.__dict__.items():\n",
    "    if \"output\" in key:\n",
    "        print(f\"{key} : \")\n",
    "        for artifact in value:\n",
    "            print(f\" {artifact.__dict__}\")\n",
    "    else:\n",
    "        print(f\"{key} : {value}\")\n"
   ]
  },
  {
   "cell_type": "markdown",
   "id": "f2420023-c0f6-49cd-8026-e9059ac8beee",
   "metadata": {},
   "source": [
    "## Step 17: Locate your model in AWS S3\n",
    "\n",
    "*Refer step 17 of the tutorial: https://developers.sap.com/tutorials/ai-core-data.html#a74a958b-509c-42a8-a29d-d89dd240e0a4*"
   ]
  }
 ],
 "metadata": {
  "kernelspec": {
   "display_name": "Python 3 (ipykernel)",
   "language": "python",
   "name": "python3"
  },
  "language_info": {
   "codemirror_mode": {
    "name": "ipython",
    "version": 3
   },
   "file_extension": ".py",
   "mimetype": "text/x-python",
   "name": "python",
   "nbconvert_exporter": "python",
   "pygments_lexer": "ipython3",
   "version": "3.9.19"
  }
 },
 "nbformat": 4,
 "nbformat_minor": 5
}
