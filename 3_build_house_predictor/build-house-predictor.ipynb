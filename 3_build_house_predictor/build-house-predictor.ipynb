{
 "cells": [
  {
   "cell_type": "markdown",
   "id": "9579c95c-5199-4f75-97e4-442629c12926",
   "metadata": {},
   "source": [
    "# Build a House Price Predictor with SAP AI Core\n",
    "Author: https://github.com/dhrubpaul\n",
    "\n",
    "You need Docker to complete this tutorial. If you are running this Jupyter notebook on web, we recommend to use your local system along with it.\n",
    "\n",
    "The steps are analogous with the tutorial: https://developers.sap.com/tutorials/ai-core-code.html\n",
    "Please open the tutorial and this notebook side-by-side for better understanding."
   ]
  },
  {
   "cell_type": "markdown",
   "id": "64056b4b-f92d-4d4e-8d52-10ab16632a7d",
   "metadata": {},
   "source": [
    "## Pre-requisite \n",
    "Create connection with SAP AI Core. Edit the below cell"
   ]
  },
  {
   "cell_type": "code",
   "execution_count": 1,
   "id": "c4c15f45",
   "metadata": {},
   "outputs": [
    {
     "name": "stdout",
     "output_type": "stream",
     "text": [
      "Collecting generative-ai-hub-sdk\n",
      "  Downloading generative_ai_hub_sdk-1.8.0-py3-none-any.whl (265 kB)\n",
      "\u001b[K     |████████████████████████████████| 265 kB 1.6 MB/s eta 0:00:01\n",
      "\u001b[?25hCollecting overloading==0.5.0\n",
      "  Downloading overloading-0.5.0-py3-none-any.whl (10 kB)\n",
      "Collecting openai>=1.3.3\n",
      "  Downloading openai-1.35.1-py3-none-any.whl (326 kB)\n",
      "\u001b[K     |████████████████████████████████| 326 kB 11.7 MB/s eta 0:00:01\n",
      "\u001b[?25hRequirement already satisfied: click>=8.1.3 in /home/matias/.local/lib/python3.9/site-packages (from generative-ai-hub-sdk) (8.1.7)\n",
      "Collecting pydantic>=2.5.3\n",
      "  Downloading pydantic-2.7.4-py3-none-any.whl (409 kB)\n",
      "\u001b[K     |████████████████████████████████| 409 kB 11.0 MB/s eta 0:00:01\n",
      "\u001b[?25hRequirement already satisfied: ai-core-sdk>=2.3.5 in /home/matias/.local/lib/python3.9/site-packages (from generative-ai-hub-sdk) (2.3.5)\n",
      "Requirement already satisfied: typing-extensions<5,>=4.7 in /home/matias/.local/lib/python3.9/site-packages (from openai>=1.3.3->generative-ai-hub-sdk) (4.12.2)\n",
      "Collecting anyio<5,>=3.5.0\n",
      "  Downloading anyio-4.4.0-py3-none-any.whl (86 kB)\n",
      "\u001b[K     |████████████████████████████████| 86 kB 6.5 MB/s  eta 0:00:01\n",
      "\u001b[?25hCollecting tqdm>4\n",
      "  Downloading tqdm-4.66.4-py3-none-any.whl (78 kB)\n",
      "\u001b[K     |████████████████████████████████| 78 kB 3.6 MB/s eta 0:00:011\n",
      "\u001b[?25hCollecting distro<2,>=1.7.0\n",
      "  Downloading distro-1.9.0-py3-none-any.whl (20 kB)\n",
      "Collecting sniffio\n",
      "  Using cached sniffio-1.3.1-py3-none-any.whl (10 kB)\n",
      "Collecting httpx<1,>=0.23.0\n",
      "  Using cached httpx-0.27.0-py3-none-any.whl (75 kB)\n",
      "Collecting pydantic-core==2.18.4\n",
      "  Downloading pydantic_core-2.18.4-cp39-cp39-manylinux_2_17_x86_64.manylinux2014_x86_64.whl (2.0 MB)\n",
      "\u001b[K     |████████████████████████████████| 2.0 MB 10.5 MB/s eta 0:00:01\n",
      "\u001b[?25hCollecting annotated-types>=0.4.0\n",
      "  Downloading annotated_types-0.7.0-py3-none-any.whl (13 kB)\n",
      "Requirement already satisfied: ai-api-client-sdk==2.1.2 in /home/matias/.local/lib/python3.9/site-packages (from ai-core-sdk>=2.3.5->generative-ai-hub-sdk) (2.1.2)\n",
      "Requirement already satisfied: idna>=2.8 in /usr/lib/python3/dist-packages (from anyio<5,>=3.5.0->openai>=1.3.3->generative-ai-hub-sdk) (2.8)\n",
      "Requirement already satisfied: exceptiongroup>=1.0.2; python_version < \"3.11\" in /home/matias/.local/lib/python3.9/site-packages (from anyio<5,>=3.5.0->openai>=1.3.3->generative-ai-hub-sdk) (1.2.1)\n",
      "Collecting httpcore==1.*\n",
      "  Using cached httpcore-1.0.5-py3-none-any.whl (77 kB)\n",
      "Requirement already satisfied: certifi in /usr/lib/python3/dist-packages (from httpx<1,>=0.23.0->openai>=1.3.3->generative-ai-hub-sdk) (2019.11.28)\n",
      "Requirement already satisfied: aenum~=3.1 in /home/matias/.local/lib/python3.9/site-packages (from ai-api-client-sdk==2.1.2->ai-core-sdk>=2.3.5->generative-ai-hub-sdk) (3.1.15)\n",
      "Requirement already satisfied: pyhumps~=3.0 in /home/matias/.local/lib/python3.9/site-packages (from ai-api-client-sdk==2.1.2->ai-core-sdk>=2.3.5->generative-ai-hub-sdk) (3.8.0)\n",
      "Requirement already satisfied: requests<3.0 in /usr/lib/python3/dist-packages (from ai-api-client-sdk==2.1.2->ai-core-sdk>=2.3.5->generative-ai-hub-sdk) (2.22.0)\n",
      "Collecting h11<0.15,>=0.13\n",
      "  Using cached h11-0.14.0-py3-none-any.whl (58 kB)\n",
      "Installing collected packages: overloading, sniffio, anyio, tqdm, distro, pydantic-core, annotated-types, pydantic, h11, httpcore, httpx, openai, generative-ai-hub-sdk\n",
      "Successfully installed annotated-types-0.7.0 anyio-4.4.0 distro-1.9.0 generative-ai-hub-sdk-1.8.0 h11-0.14.0 httpcore-1.0.5 httpx-0.27.0 openai-1.35.1 overloading-0.5.0 pydantic-2.7.4 pydantic-core-2.18.4 sniffio-1.3.1 tqdm-4.66.4\n",
      "Note: you may need to restart the kernel to use updated packages.\n"
     ]
    }
   ],
   "source": [
    "%pip install generative-ai-hub-sdk"
   ]
  },
  {
   "cell_type": "code",
   "execution_count": 2,
   "id": "4ce8675a-2d8e-4537-8d9f-6f26dacae72c",
   "metadata": {},
   "outputs": [],
   "source": [
    "import os\n",
    "import yaml\n",
    "# Load Library\n",
    "from ai_core_sdk.ai_core_v2_client import AICoreV2Client\n",
    "\n",
    "# Load environment variables from credentials.yaml\n",
    "with open('credentials.yaml', 'r') as file:\n",
    "    env_vars = yaml.safe_load(file)\n",
    "\n",
    "os.environ['AICORE_CLIENT_ID'] = env_vars['AICORE_CLIENT_ID']\n",
    "os.environ['AICORE_CLIENT_SECRET'] = env_vars['AICORE_CLIENT_SECRET']\n",
    "os.environ['AICORE_RESOURCE_GROUP'] = env_vars['AICORE_RESOURCE_GROUP']\n",
    "os.environ['AICORE_AUTH_URL'] = env_vars['AICORE_AUTH_URL']\n",
    "os.environ['AICORE_BASE_URL'] = env_vars['AICORE_BASE_URL']\n",
    "\n",
    "# Create Connection using environment variables\n",
    "ai_core_client = AICoreV2Client(\n",
    "    base_url=os.environ['AICORE_BASE_URL'] + \"/v2\",\n",
    "    auth_url=os.environ['AICORE_AUTH_URL'] + \"/oauth/token\",\n",
    "    client_id=os.environ['AICORE_CLIENT_ID'],\n",
    "    client_secret=os.environ['AICORE_CLIENT_SECRET']\n",
    ")\n",
    "# no output is expected"
   ]
  },
  {
   "cell_type": "markdown",
   "id": "28e3e6a8-b9c3-4513-888d-464ba8d654c5",
   "metadata": {},
   "source": [
    "## Step 1: Create a Docker account and generate a Docker access token\n",
    "\n",
    "*Create a repository on hub.docker.com . You may use any your own Docker registry.* Refere step 1 of the tutorial: https://developers.sap.com/tutorials/ai-core-code.html#cf7b33ab-c455-47ee-a812-33a1ff587cf0\n",
    "\n",
    "## Step 2: Install Docker Desktop\n",
    "\n",
    "*Download and install docker https://www.docker.com/products/docker-desktop/*"
   ]
  },
  {
   "cell_type": "markdown",
   "id": "8a769079-c897-46fc-8c4b-b51c8ff33ce2",
   "metadata": {},
   "source": [
    "## Step 3: Write AI code for house price prediction"
   ]
  },
  {
   "cell_type": "markdown",
   "id": "2ecd3883-2c49-40fc-80de-6fba0bc5af06",
   "metadata": {},
   "source": [
    "Please refer the step 3 of the tutorial: https://developers.sap.com/tutorials/ai-core-code.html#3730e9e1-15d5-4cd3-a4f7-27a82d2297da"
   ]
  },
  {
   "cell_type": "markdown",
   "id": "b95d7111-a60e-426f-b9b0-47e66bc70966",
   "metadata": {},
   "source": [
    "## Step 4: Transform your AI code into a Docker image\n",
    "\n",
    "*Please refer to step 4: https://developers.sap.com/tutorials/ai-core-code.html#61ada9bc-8a9a-4671-8e92-fde71c78a8f1*"
   ]
  },
  {
   "cell_type": "markdown",
   "id": "78269b3a-2369-4c89-bf9a-82a0b298e075",
   "metadata": {
    "tags": []
   },
   "source": [
    "## Step 5: Connect your local system to a Docker account"
   ]
  },
  {
   "cell_type": "markdown",
   "id": "930a88b6-412a-4be7-8984-4d37c57163a5",
   "metadata": {},
   "source": [
    "*Please refer to step 5: https://developers.sap.com/tutorials/ai-core-code.html#beb0c055-7441-41d3-a285-304a1c41b6fb*"
   ]
  },
  {
   "cell_type": "markdown",
   "id": "2f6b8c09-8f82-40b7-a889-cce8e339383e",
   "metadata": {},
   "source": [
    "## Step 6: Upload a Docker image to the cloud"
   ]
  },
  {
   "cell_type": "markdown",
   "id": "638eb8c5-c57a-4af5-a7c4-dc4a28e9f80a",
   "metadata": {},
   "source": [
    "*Please refer to step 6: https://developers.sap.com/tutorials/ai-core-code.html#2aa8d2f5-9101-4e66-8403-b58e15ee18c5*"
   ]
  },
  {
   "cell_type": "markdown",
   "id": "2d395434-4642-4081-af1f-9e8cbf6f7ba1",
   "metadata": {},
   "source": [
    "## Step 7: Store your Docker credentials in SAP AI Core as a Docker registry secret"
   ]
  },
  {
   "cell_type": "code",
   "execution_count": 3,
   "id": "683914ca-394e-4657-828f-9bf81cb80ecb",
   "metadata": {},
   "outputs": [
    {
     "name": "stdout",
     "output_type": "stream",
     "text": [
      "{'message': 'secret has been created'}\n"
     ]
    }
   ],
   "source": [
    "import yaml\n",
    "\n",
    "# Load the YAML file\n",
    "with open('credentials.yaml', 'r') as file:\n",
    "    config = yaml.safe_load(file)\n",
    "\n",
    "# Extract the necessary values\n",
    "docker_registry_url = config['DOCKER_TOKEN_NAME']\n",
    "docker_username = config['DOCKER_USERNAME']\n",
    "docker_access_token = config['DOCKER_ACCESS_TOKEN']\n",
    "\n",
    "# Use the extracted values in your snippet\n",
    "response = ai_core_client.docker_registry_secrets.create(\n",
    "    name=\"credstutorialrepo\",\n",
    "    data={\n",
    "        \".dockerconfigjson\": f'{{\"auths\":{{\"{docker_registry_url}\":{{\"username\":\"{docker_username}\",\"password\":\"{docker_access_token}\"}}}}}}'\n",
    "    }\n",
    ")\n",
    "\n",
    "print(response.__dict__)\n"
   ]
  },
  {
   "cell_type": "markdown",
   "id": "55470b8c-f268-4e98-a73b-66e7be32277c",
   "metadata": {},
   "source": [
    "## Step 8: Reference a Docker image in your AI workflow\n"
   ]
  },
  {
   "cell_type": "markdown",
   "id": "5fa1f4ca-96f8-4fad-8bd7-8e0e0af45543",
   "metadata": {},
   "source": [
    "*Please refer step 8 of the tutorial: https://developers.sap.com/tutorials/ai-core-code.html#d5976faf-77b3-4c8d-a52f-82b78862386f*"
   ]
  },
  {
   "cell_type": "markdown",
   "id": "f2420023-c0f6-49cd-8026-e9059ac8beee",
   "metadata": {},
   "source": [
    "## Step 9: Check the sync status of your workflow"
   ]
  },
  {
   "cell_type": "code",
   "execution_count": null,
   "id": "cb74c25d-b2b1-4fa1-9f8f-2a98ff153150",
   "metadata": {},
   "outputs": [],
   "source": [
    "# Get application status\n",
    "response = ai_core_client.applications.get_status(application_name='learning-scenarios-app')\n",
    "\n",
    "print(response.message)\n",
    "for sync_status in response.sync_ressources_status:\n",
    "    print(sync_status.__dict__)"
   ]
  },
  {
   "cell_type": "markdown",
   "id": "03718021-afc5-4fbb-b00c-2237d80f93eb",
   "metadata": {},
   "source": [
    "- should see `status: 'Synced'`"
   ]
  },
  {
   "cell_type": "code",
   "execution_count": null,
   "id": "339494e0-cf2c-4626-a2ca-60af28afc105",
   "metadata": {},
   "outputs": [],
   "source": [
    "# List available executables\n",
    "response = ai_core_client.executable.query(\n",
    "    scenario_id = \"learning-code\", resource_group='default'\n",
    ")\n",
    "\n",
    "for executable in response.resources:\n",
    "    print(executable.__dict__)\n"
   ]
  },
  {
   "cell_type": "markdown",
   "id": "4bae8527-d5d1-48e1-8c85-ea8de4a2ada4",
   "metadata": {},
   "source": [
    "- should see `id: code-pipeline`. The value is derived from your workflow from the annotation `name`.\n",
    "\n",
    "## Step 10: Run your AI workflow"
   ]
  },
  {
   "cell_type": "code",
   "execution_count": null,
   "id": "f3e7f0eb-05d4-4c61-893b-567ab4db6b57",
   "metadata": {},
   "outputs": [],
   "source": [
    "# Create configuration\n",
    "response = ai_core_client.configuration.create(\n",
    "    name = \"code-workflow-1\",\n",
    "    scenario_id = \"learning-code\",\n",
    "    executable_id = \"code-pipeline\",\n",
    "    resource_group = \"default\"\n",
    ")\n",
    "print(response.__dict__)\n"
   ]
  },
  {
   "cell_type": "code",
   "execution_count": null,
   "id": "1d4d2745-429a-47e1-bd7b-d402e406c8fe",
   "metadata": {},
   "outputs": [],
   "source": [
    "# Create and start execution\n",
    "response = ai_core_client.execution.create(\n",
    "    configuration_id = '<YOUR_CONFIGURATION_ID>',\n",
    "    resource_group = 'default'\n",
    ")\n",
    "\n",
    "response.__dict__"
   ]
  },
  {
   "cell_type": "code",
   "execution_count": null,
   "id": "e454dfc6-f733-4c72-9883-bbd3f47a7ca2",
   "metadata": {},
   "outputs": [],
   "source": [
    "# Get execution status from SAP AI Core\n",
    "# execute this multiple times in interval of 30 seconds\n",
    "response = ai_core_client.execution.get(\n",
    "    execution_id = '<YOUR_EXECUTION_ID', # Change this\n",
    "    resource_group = 'default'\n",
    ")\n",
    "\n",
    "response.__dict__\n"
   ]
  },
  {
   "cell_type": "markdown",
   "id": "2e419e7d-ad94-4e59-9fe4-9e4cfd04d8e9",
   "metadata": {},
   "source": [
    "- should end up with **Status: DEAD**"
   ]
  },
  {
   "cell_type": "markdown",
   "id": "dea7ad1e-f05c-4c4e-86df-23f6d0065c17",
   "metadata": {},
   "source": [
    "## Step 11 Look for error logs in execution\n"
   ]
  },
  {
   "cell_type": "code",
   "execution_count": null,
   "id": "56b12e4b-d954-4fb9-8763-7c5e22a0e421",
   "metadata": {},
   "outputs": [],
   "source": [
    "# get execution logs\n",
    "response = ai_core_client.execution.query_logs(\n",
    "    execution_id = '<YOUR_EXECUTION_ID>',\n",
    "    resource_group = 'default',\n",
    "    start = datetime(1990, 1, 1) # Optional, required when execution is older than one hour\n",
    ")\n",
    "\n",
    "for log in response.data.result:\n",
    "    print(log.__dict__)\n"
   ]
  },
  {
   "cell_type": "markdown",
   "id": "12709765-5b8b-462a-b8fc-5526ce7e9936",
   "metadata": {},
   "source": [
    "## Step 12: Fix and update code\n",
    "\n",
    "*Refer step 12 of the tutorial: https://developers.sap.com/tutorials/ai-core-code.html#d3cdbc12-922d-48b2-a197-44f0d8fbd867*\n",
    "\n",
    "## Step 13: Update your AI workflow\n",
    "\n",
    "*Refer step 13 of the tutorial: https://developers.sap.com/tutorials/ai-core-code.html#3fedf413-00e5-4554-85bc-06130758678a*\n",
    "\n",
    "## Step 14: Create Execution"
   ]
  },
  {
   "cell_type": "code",
   "execution_count": null,
   "id": "b3313d73-5f50-49ad-aae9-db4e7eb4f365",
   "metadata": {},
   "outputs": [],
   "source": [
    "# Create execution\n",
    "response = ai_core_client.executable.query(\n",
    "    scenario_id = \"learning-code\", resource_group='default'\n",
    ")\n",
    "\n",
    "for executable in response.resources:\n",
    "    print(executable.__dict__)\n"
   ]
  },
  {
   "cell_type": "code",
   "execution_count": null,
   "id": "73e6d7e7-a1ff-4216-82a3-0581c739ea31",
   "metadata": {},
   "outputs": [],
   "source": [
    "# Get execution status from SAP AI Core\n",
    "# execute this multiple times in interval of 30 seconds\n",
    "response = ai_core_client.execution.get(\n",
    "    execution_id = '<YOUR_EXECUTION_ID', # Change this\n",
    "    resource_group = 'default'\n",
    ")\n",
    "\n",
    "response.__dict__\n"
   ]
  },
  {
   "cell_type": "markdown",
   "id": "eac90225-b360-450c-8f76-4a29a00561ee",
   "metadata": {},
   "source": [
    "- should show **Status: COMPLETED**"
   ]
  },
  {
   "cell_type": "code",
   "execution_count": null,
   "id": "c2a4d7ae-8211-4926-8968-0d1d98414826",
   "metadata": {},
   "outputs": [],
   "source": [
    "# Get Execution Logs\n",
    "response = ai_core_client.execution.query_logs(\n",
    "    execution_id = '<YOUR_EXECUTION_ID>',\n",
    "    resource_group = 'default'\n",
    ")\n",
    "\n",
    "for log in response.data.result:\n",
    "    print(log.__dict__)\n"
   ]
  }
 ],
 "metadata": {
  "kernelspec": {
   "display_name": "Python 3 (ipykernel)",
   "language": "python",
   "name": "python3"
  },
  "language_info": {
   "codemirror_mode": {
    "name": "ipython",
    "version": 3
   },
   "file_extension": ".py",
   "mimetype": "text/x-python",
   "name": "python",
   "nbconvert_exporter": "python",
   "pygments_lexer": "ipython3",
   "version": "3.9.19"
  }
 },
 "nbformat": 4,
 "nbformat_minor": 5
}
