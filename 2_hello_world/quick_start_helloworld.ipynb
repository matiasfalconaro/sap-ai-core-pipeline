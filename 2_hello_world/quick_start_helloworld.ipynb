{
 "cells": [
  {
   "cell_type": "markdown",
   "id": "9579c95c-5199-4f75-97e4-442629c12926",
   "metadata": {},
   "source": [
    "# Quick Start for You First AI Project using SAP AI Core\n",
    "Author: https://github.com/dhrubpaul\n",
    "\n",
    "The steps are analogous with the tutorial: https://developers.sap.com/tutorials/ai-core-helloworld.html\n",
    "Please open the tutorial and this notebook side-by-side for better understanding."
   ]
  },
  {
   "cell_type": "markdown",
   "id": "64056b4b-f92d-4d4e-8d52-10ab16632a7d",
   "metadata": {},
   "source": [
    "## Pre-requisite \n",
    "Create connection with SAP AI Core. Edit the below cell"
   ]
  },
  {
   "cell_type": "code",
   "execution_count": 1,
   "id": "12c9716d",
   "metadata": {},
   "outputs": [
    {
     "name": "stdout",
     "output_type": "stream",
     "text": [
      "Requirement already satisfied: ai-core-sdk in /home/matias/.local/lib/python3.9/site-packages (2.3.5)\n",
      "Requirement already satisfied: ai-api-client-sdk==2.1.2 in /home/matias/.local/lib/python3.9/site-packages (from ai-core-sdk) (2.1.2)\n",
      "Requirement already satisfied: click~=8.1 in /home/matias/.local/lib/python3.9/site-packages (from ai-core-sdk) (8.1.7)\n",
      "Requirement already satisfied: pyhumps~=3.0 in /home/matias/.local/lib/python3.9/site-packages (from ai-api-client-sdk==2.1.2->ai-core-sdk) (3.8.0)\n",
      "Requirement already satisfied: requests<3.0 in /usr/lib/python3/dist-packages (from ai-api-client-sdk==2.1.2->ai-core-sdk) (2.22.0)\n",
      "Requirement already satisfied: aenum~=3.1 in /home/matias/.local/lib/python3.9/site-packages (from ai-api-client-sdk==2.1.2->ai-core-sdk) (3.1.15)\n",
      "Note: you may need to restart the kernel to use updated packages.\n"
     ]
    }
   ],
   "source": [
    "%pip install ai-core-sdk"
   ]
  },
  {
   "cell_type": "code",
   "execution_count": 3,
   "id": "4ce8675a-2d8e-4537-8d9f-6f26dacae72c",
   "metadata": {},
   "outputs": [],
   "source": [
    "import os\n",
    "import yaml\n",
    "# Load Library\n",
    "from ai_core_sdk.ai_core_v2_client import AICoreV2Client\n",
    "\n",
    "# Load environment variables from credentials.yaml\n",
    "with open('credentials.yaml', 'r') as file:\n",
    "    env_vars = yaml.safe_load(file)\n",
    "\n",
    "os.environ['AICORE_CLIENT_ID'] = env_vars['AICORE_CLIENT_ID']\n",
    "os.environ['AICORE_CLIENT_SECRET'] = env_vars['AICORE_CLIENT_SECRET']\n",
    "os.environ['AICORE_RESOURCE_GROUP'] = env_vars['AICORE_RESOURCE_GROUP']\n",
    "os.environ['AICORE_AUTH_URL'] = env_vars['AICORE_AUTH_URL']\n",
    "os.environ['AICORE_BASE_URL'] = env_vars['AICORE_BASE_URL']\n",
    "\n",
    "# Create Connection using environment variables\n",
    "ai_core_client = AICoreV2Client(\n",
    "    base_url=os.environ['AICORE_BASE_URL'] + \"/v2\",\n",
    "    auth_url=os.environ['AICORE_AUTH_URL'] + \"/oauth/token\",\n",
    "    client_id=os.environ['AICORE_CLIENT_ID'],\n",
    "    client_secret=os.environ['AICORE_CLIENT_SECRET']\n",
    ")\n",
    "# no output is expected"
   ]
  },
  {
   "cell_type": "markdown",
   "id": "28e3e6a8-b9c3-4513-888d-464ba8d654c5",
   "metadata": {},
   "source": [
    "## Step 1: Create a GitHub repository\n",
    "\n",
    "*Create a repository on GitHub.com . You may use any your own Git hosting.* Refere step 1 of the tutorial: https://developers.sap.com/tutorials/ai-core-helloworld.html#943ffe1c-b32f-4795-8024-3356466a3f75\n",
    "\n",
    "\n",
    "## Step 2: Generate a GitHub personal access token\n",
    "\n",
    "*Perform this step over GitHub*. Refer step 2 of the tutorial: https://developers.sap.com/tutorials/ai-core-helloworld.html#06fb98d7-9efa-427d-aed8-864b56b72f3c"
   ]
  },
  {
   "cell_type": "markdown",
   "id": "8a769079-c897-46fc-8c4b-b51c8ff33ce2",
   "metadata": {},
   "source": [
    "## Step 3: Onboard GitHub to SAP AI Core"
   ]
  },
  {
   "cell_type": "code",
   "execution_count": 6,
   "id": "190a7080-5ff5-4c73-b63d-65c7463a8471",
   "metadata": {},
   "outputs": [
    {
     "data": {
      "text/plain": [
       "<ai_core_sdk.models.base_models.Message at 0x7fbfe41a3e20>"
      ]
     },
     "execution_count": 6,
     "metadata": {},
     "output_type": "execute_result"
    }
   ],
   "source": [
    "import os\n",
    "import yaml\n",
    "\n",
    "# Load environment variables from credentials.yaml\n",
    "with open('credentials.yaml', 'r') as file:\n",
    "    env_vars = yaml.safe_load(file)\n",
    "\n",
    "os.environ['ACCESS_TOKEN_NAME'] = env_vars['ACCESS_TOKEN_NAME']\n",
    "os.environ['REPO_URL'] = env_vars['REPO_URL']\n",
    "os.environ['GITHUB_USERNAME'] = env_vars['GITHUB_USERNAME']\n",
    "os.environ['ACCESS_TOKEN_PWD'] = env_vars['ACCESS_TOKEN_PWD']\n",
    "\n",
    "# on-board new GitHub repository\n",
    "ai_core_client.repositories.create(\n",
    "    name=os.environ['ACCESS_TOKEN_NAME'],\n",
    "    url=os.environ['REPO_URL'],\n",
    "    username=os.environ['GITHUB_USERNAME'],\n",
    "    password=os.environ['ACCESS_TOKEN_PWD']\n",
    ")"
   ]
  },
  {
   "cell_type": "markdown",
   "id": "2ecd3883-2c49-40fc-80de-6fba0bc5af06",
   "metadata": {},
   "source": [
    "**If Error**\n",
    "- check keys in the top cell\n",
    "- ensure your GitHub is not blocked by firewall. You repostiory can be private."
   ]
  },
  {
   "cell_type": "code",
   "execution_count": 7,
   "id": "baf86e67-a652-4cf5-859f-d0933a2e64b2",
   "metadata": {},
   "outputs": [
    {
     "name": "stdout",
     "output_type": "stream",
     "text": [
      "Name: mfalconaro-dev-access-token\n",
      "URL: https://github.com/matiasfalconaro/sap-ai-core-pipeline\n",
      "Status: RepositoryStatus.COMPLETED\n",
      "Name: ncellini-aicore-pipelines\n",
      "URL: https://github.com/NCellini/aicore-pipelines\n",
      "Status: RepositoryStatus.COMPLETED\n",
      "Name: gsalomone-tf-gpu\n",
      "URL: https://github.com/gianfranco-s/SAP-aicore-gpu\n",
      "Status: RepositoryStatus.COMPLETED\n",
      "Name: tomaspf-aicore\n",
      "URL: https://github.com/tomaspf9/SAP-aicore\n",
      "Status: RepositoryStatus.COMPLETED\n"
     ]
    }
   ],
   "source": [
    "# check on-boarding status\n",
    "response = ai_core_client.repositories.query()\n",
    "#\n",
    "for repository in response.resources:\n",
    "    print('Name:', repository.name)\n",
    "    print('URL:', repository.url)\n",
    "    print('Status:', repository.status)\n"
   ]
  },
  {
   "cell_type": "markdown",
   "id": "b95d7111-a60e-426f-b9b0-47e66bc70966",
   "metadata": {},
   "source": [
    "## Step 4: Place a workflow in GitHub\n",
    "\n",
    "*Perform this step on your GitHub*. Refer step 4 of the tutorial: https://developers.sap.com/tutorials/ai-core-helloworld.html#65c2faa9-0e67-4fee-b639-65a98139911a"
   ]
  },
  {
   "cell_type": "markdown",
   "id": "78269b3a-2369-4c89-bf9a-82a0b298e075",
   "metadata": {},
   "source": [
    "## Step 5: Create an application to sync workflows with SAP AI Core"
   ]
  },
  {
   "cell_type": "code",
   "execution_count": 13,
   "id": "f5bab8ed-5163-4748-b39e-01215abde392",
   "metadata": {},
   "outputs": [
    {
     "data": {
      "text/plain": [
       "<ai_api_client_sdk.models.base_models.BasicResponse at 0x7f30546c6ee0>"
      ]
     },
     "execution_count": 13,
     "metadata": {},
     "output_type": "execute_result"
    }
   ],
   "source": [
    "import os\n",
    "import yaml\n",
    "\n",
    "# Load environment variables from credentials.yaml\n",
    "with open('credentials.yaml', 'r') as file:\n",
    "    env_vars = yaml.safe_load(file)\n",
    "\n",
    "os.environ['APPLICATION_NAME'] = env_vars['APPLICATION_NAME']\n",
    "os.environ['REPO_URL'] = env_vars['REPO_URL']\n",
    "os.environ['PATH'] = env_vars['PATH']\n",
    "os.environ['REVISION'] = env_vars['REVISION']\n",
    "\n",
    "ai_core_client.applications.create(\n",
    "    application_name=os.environ['APPLICATION_NAME'],\n",
    "    repository_url=os.environ['REPO_URL'],\n",
    "    path=os.environ['PATH'],\n",
    "    revision=os.environ['REVISION'],\n",
    ")"
   ]
  },
  {
   "cell_type": "markdown",
   "id": "1c36c146-e4e2-4e1e-a43b-5a5d91f188f9",
   "metadata": {},
   "source": [
    "List your applications created for syncing workflows"
   ]
  },
  {
   "cell_type": "code",
   "execution_count": 14,
   "id": "5bd75460-efb1-422a-a069-f2a7a74ac872",
   "metadata": {},
   "outputs": [
    {
     "name": "stdout",
     "output_type": "stream",
     "text": [
      "{'path': 'tf-text-classifier', 'revision': 'HEAD', 'repository_url': 'https://github.com/gianfranco-s/SAP-aicore-gpu', 'application_name': 'gsalomone-tf-app'}\n",
      "{'path': 'LearningScenarios', 'revision': 'HEAD', 'repository_url': 'https://github.com/NCellini/aicore-pipelines', 'application_name': 'learning-scenarios-app-ncellini'}\n",
      "{'path': '2_hello_world', 'revision': '15_create_an_application_to_sync_workflow', 'repository_url': 'https://github.com/matiasfalconaro/sap-ai-core-pipeline', 'application_name': 'mfalconaro-learning-scenarios-app'}\n",
      "{'path': 'LearningScenarios', 'revision': 'HEAD', 'repository_url': 'https://github.com/tomaspf9/SAP-aicore', 'application_name': 'tomaspf-learningscenarios'}\n"
     ]
    }
   ],
   "source": [
    "response = ai_core_client.applications.query()\n",
    "\n",
    "for app in response.resources:\n",
    "    print(app.__dict__)\n"
   ]
  },
  {
   "cell_type": "markdown",
   "id": "2f6b8c09-8f82-40b7-a889-cce8e339383e",
   "metadata": {},
   "source": [
    "## Step 6: Check for errors"
   ]
  },
  {
   "cell_type": "code",
   "execution_count": 15,
   "id": "fe55a93a-656a-443d-8fb0-b22b51dd52cf",
   "metadata": {},
   "outputs": [
    {
     "name": "stdout",
     "output_type": "stream",
     "text": [
      "successfully synced (all tasks run)\n",
      "{'name': 'mfalconaro-first-pipeline', 'kind': 'WorkflowTemplate', 'status': 'Synced', 'message': 'workflowtemplate.argoproj.io/mfalconaro-first-pipeline created'}\n"
     ]
    }
   ],
   "source": [
    "response = ai_core_client.applications.get_status(application_name=os.environ['APPLICATION_NAME'])\n",
    "\n",
    "print(response.message)\n",
    "for workflow_sync_status in response.sync_ressources_status:\n",
    "    print(workflow_sync_status.__dict__)\n"
   ]
  },
  {
   "cell_type": "markdown",
   "id": "2d395434-4642-4081-af1f-9e8cbf6f7ba1",
   "metadata": {},
   "source": [
    "## Step 7: Check your scenario"
   ]
  },
  {
   "cell_type": "code",
   "execution_count": 26,
   "id": "683914ca-394e-4657-828f-9bf81cb80ecb",
   "metadata": {},
   "outputs": [
    {
     "name": "stdout",
     "output_type": "stream",
     "text": [
      "{'id': 'tf-text-clf', 'name': 'movie-review-clf', 'description': 'Tensorflow text classification', 'labels': None, 'created_at': datetime.datetime(2024, 2, 25, 3, 47, 23, tzinfo=datetime.timezone.utc), 'modified_at': datetime.datetime(2024, 2, 25, 3, 47, 23, tzinfo=datetime.timezone.utc)}\n",
      "{'id': 'learning-code', 'name': 'Code (Tutorial)', 'description': 'Tutorial to add custom code to SAP AI Core', 'labels': None, 'created_at': datetime.datetime(2024, 3, 18, 16, 3, 10, tzinfo=datetime.timezone.utc), 'modified_at': datetime.datetime(2024, 3, 18, 16, 3, 10, tzinfo=datetime.timezone.utc)}\n",
      "{'id': 'learning-datalines', 'name': 'House Price (Tutorial)', 'description': 'Learning how to ingest data to workflows', 'labels': None, 'created_at': datetime.datetime(2024, 3, 18, 16, 3, 10, tzinfo=datetime.timezone.utc), 'modified_at': datetime.datetime(2024, 3, 18, 16, 3, 10, tzinfo=datetime.timezone.utc)}\n",
      "{'id': 'learning', 'name': 'Tutorial', 'description': 'Introduction to SAP AI Core', 'labels': None, 'created_at': datetime.datetime(2024, 3, 18, 16, 3, 10, tzinfo=datetime.timezone.utc), 'modified_at': datetime.datetime(2024, 6, 17, 21, 3, 53, tzinfo=datetime.timezone.utc)}\n"
     ]
    }
   ],
   "source": [
    "response = ai_core_client.scenario.query(resource_group=os.environ['AICORE_RESOURCE_GROUP'])\n",
    "\n",
    "for scenario in response.resources:\n",
    "    print(scenario.__dict__)\n"
   ]
  },
  {
   "cell_type": "code",
   "execution_count": 29,
   "id": "5d371cc2-7406-4c97-a28a-4ed92a532019",
   "metadata": {},
   "outputs": [
    {
     "name": "stdout",
     "output_type": "stream",
     "text": [
      "{'id': 'first-pipeline-116', 'scenario_id': 'learning', 'version_id': '2.0', 'name': 'Hello Pipeline', 'description': 'Greets the user', 'deployable': False, 'parameters': [], 'input_artifacts': [], 'output_artifacts': [], 'labels': None, 'created_at': datetime.datetime(2024, 6, 11, 14, 17, 26, tzinfo=datetime.timezone.utc), 'modified_at': datetime.datetime(2024, 6, 11, 17, 15, 7, tzinfo=datetime.timezone.utc)}\n",
      "{'id': 'first-pipeline-ncellini', 'scenario_id': 'learning', 'version_id': '2.0', 'name': 'Hello Pipeline', 'description': 'Greets the user', 'deployable': False, 'parameters': [], 'input_artifacts': [], 'output_artifacts': [], 'labels': None, 'created_at': datetime.datetime(2024, 3, 18, 16, 3, 10, tzinfo=datetime.timezone.utc), 'modified_at': datetime.datetime(2024, 3, 19, 17, 6, 44, tzinfo=datetime.timezone.utc)}\n",
      "{'id': 'mfalconaro-first-pipeline', 'scenario_id': 'learning', 'version_id': '1.0', 'name': 'Hello Pipeline', 'description': 'Greets the user', 'deployable': False, 'parameters': [], 'input_artifacts': [], 'output_artifacts': [], 'labels': None, 'created_at': datetime.datetime(2024, 6, 17, 21, 3, 53, tzinfo=datetime.timezone.utc), 'modified_at': datetime.datetime(2024, 6, 17, 21, 3, 53, tzinfo=datetime.timezone.utc)}\n"
     ]
    }
   ],
   "source": [
    "import os\n",
    "import yaml\n",
    "\n",
    "# Load environment variables from credentials.yaml\n",
    "with open('credentials.yaml', 'r') as file:\n",
    "    env_vars = yaml.safe_load(file)\n",
    "\n",
    "os.environ['SCENARIO_ID'] = env_vars['SCENARIO_ID']\n",
    "\n",
    "# List executable with a give scenario\n",
    "response = ai_core_client.executable.query(scenario_id=os.environ['SCENARIO_ID'], resource_group=os.environ['AICORE_RESOURCE_GROUP'])\n",
    "\n",
    "for executable in response.resources:\n",
    "    print(executable.__dict__)\n"
   ]
  },
  {
   "cell_type": "markdown",
   "id": "55470b8c-f268-4e98-a73b-66e7be32277c",
   "metadata": {},
   "source": [
    "## Step 8: Run executable"
   ]
  },
  {
   "cell_type": "markdown",
   "id": "5fa1f4ca-96f8-4fad-8bd7-8e0e0af45543",
   "metadata": {},
   "source": [
    "modify the executable ID to the value supplied in your workflow"
   ]
  },
  {
   "cell_type": "code",
   "execution_count": 5,
   "id": "cb74c25d-b2b1-4fa1-9f8f-2a98ff153150",
   "metadata": {},
   "outputs": [
    {
     "data": {
      "text/plain": [
       "<ai_api_client_sdk.models.configuration_create_response.ConfigurationCreateResponse at 0x7fbec0303af0>"
      ]
     },
     "execution_count": 5,
     "metadata": {},
     "output_type": "execute_result"
    }
   ],
   "source": [
    "import os\n",
    "import yaml\n",
    "\n",
    "# Load environment variables from credentials.yaml\n",
    "with open('credentials.yaml', 'r') as file:\n",
    "    env_vars = yaml.safe_load(file)\n",
    "\n",
    "os.environ['SCENARIO_ID'] = env_vars['SCENARIO_ID']\n",
    "os.environ['CONFIGURATION_NAME'] = env_vars['CONFIGURATION_NAME']\n",
    "os.environ['EXECUTABLE_ID'] = env_vars['EXECUTABLE_ID']\n",
    "\n",
    "# Create configuration\n",
    "ai_core_client.configuration.create(\n",
    "    name=os.environ['CONFIGURATION_NAME'], # custom name of configuration\n",
    "    scenario_id=os.environ['SCENARIO_ID'], # value from workflow\n",
    "    executable_id=os.environ['EXECUTABLE_ID'], # value from workflow\n",
    "    resource_group=os.environ['AICORE_RESOURCE_GROUP']\n",
    ")"
   ]
  },
  {
   "cell_type": "code",
   "execution_count": 7,
   "id": "339494e0-cf2c-4626-a2ca-60af28afc105",
   "metadata": {},
   "outputs": [
    {
     "name": "stdout",
     "output_type": "stream",
     "text": [
      "{'id': '2f04942b-4036-426e-be98-c20170637563', 'name': 'mfalconaro-hello-pipeline-conf', 'scenario_id': 'learning', 'executable_id': 'mfalconaro-first-pipeline', 'parameter_bindings': [], 'input_artifact_bindings': [], 'created_at': datetime.datetime(2024, 6, 17, 21, 48, 6, tzinfo=datetime.timezone.utc), 'scenario': None}\n",
      "{'id': '97a2f786-2099-43be-8b99-0ecb3b195149', 'name': 'mfalconaro-hello-pipeline-conf', 'scenario_id': 'learning', 'executable_id': 'mfalconaro-first-pipeline', 'parameter_bindings': [], 'input_artifact_bindings': [], 'created_at': datetime.datetime(2024, 6, 17, 16, 4, 7, tzinfo=datetime.timezone.utc), 'scenario': None}\n",
      "{'id': '76040917-79ac-4de0-a49f-25a003ec9c29', 'name': 'tomaspf-conf-hello-pipeline', 'scenario_id': 'learning', 'executable_id': 'first-pipeline-116', 'parameter_bindings': [], 'input_artifact_bindings': [], 'created_at': datetime.datetime(2024, 6, 11, 14, 50, 7, tzinfo=datetime.timezone.utc), 'scenario': None}\n",
      "{'id': 'a6388377-1275-48d2-b582-5c59ec14e568', 'name': 'House Price February 1 - ncellini', 'scenario_id': 'learning-datalines', 'executable_id': 'data-pipeline', 'parameter_bindings': [<ai_api_client_sdk.models.parameter_binding.ParameterBinding object at 0x7fbea380a790>], 'input_artifact_bindings': [<ai_api_client_sdk.models.input_artifact_binding.InputArtifactBinding object at 0x7fbea380a7c0>], 'created_at': datetime.datetime(2024, 3, 25, 16, 58, 28, tzinfo=datetime.timezone.utc), 'scenario': None}\n",
      "{'id': '0c99fbc3-a739-416a-a460-756a4f5e0cca', 'name': 'House Price February 1', 'scenario_id': 'learning-datalines', 'executable_id': 'data-pipeline', 'parameter_bindings': [<ai_api_client_sdk.models.parameter_binding.ParameterBinding object at 0x7fbea380a6d0>], 'input_artifact_bindings': [<ai_api_client_sdk.models.input_artifact_binding.InputArtifactBinding object at 0x7fbea380abe0>], 'created_at': datetime.datetime(2024, 3, 25, 16, 27, 13, tzinfo=datetime.timezone.utc), 'scenario': None}\n",
      "{'id': '7009172a-ecd3-4b2e-9af0-55bb36844c19', 'name': 'House Price January 1 - ncellini', 'scenario_id': 'learning-datalines', 'executable_id': 'data-pipeline', 'parameter_bindings': [<ai_api_client_sdk.models.parameter_binding.ParameterBinding object at 0x7fbea380aa00>], 'input_artifact_bindings': [<ai_api_client_sdk.models.input_artifact_binding.InputArtifactBinding object at 0x7fbea380a7f0>], 'created_at': datetime.datetime(2024, 3, 19, 14, 59, 23, tzinfo=datetime.timezone.utc), 'scenario': None}\n",
      "{'id': '926af76b-b97e-4741-abd5-c0f8c68bbf86', 'name': 'House Price January 1 - ncellini', 'scenario_id': 'learning-datalines', 'executable_id': 'data-pipeline', 'parameter_bindings': [<ai_api_client_sdk.models.parameter_binding.ParameterBinding object at 0x7fbea380aee0>], 'input_artifact_bindings': [<ai_api_client_sdk.models.input_artifact_binding.InputArtifactBinding object at 0x7fbea380ab80>], 'created_at': datetime.datetime(2024, 3, 18, 17, 53, 43, tzinfo=datetime.timezone.utc), 'scenario': None}\n",
      "{'id': 'f6978711-e57d-428a-8fd8-9c1fe383faf8', 'name': 'hellopipeline-ncellini', 'scenario_id': 'learning', 'executable_id': 'first-pipeline-ncellini', 'parameter_bindings': [], 'input_artifact_bindings': [], 'created_at': datetime.datetime(2024, 3, 18, 16, 29, 46, tzinfo=datetime.timezone.utc), 'scenario': None}\n",
      "{'id': 'bc29e911-826e-4e7f-9bd9-46b6d0b08b5e', 'name': 'code-workflow-2-ncellini', 'scenario_id': 'learning-code', 'executable_id': 'code-pipeline-ncellini', 'parameter_bindings': [], 'input_artifact_bindings': [], 'created_at': datetime.datetime(2024, 3, 6, 20, 56, 52, tzinfo=datetime.timezone.utc), 'scenario': None}\n",
      "{'id': 'edd1de0c-ac08-4844-8ce7-add0519d9ff9', 'name': 'House Price January 1', 'scenario_id': 'learning-datalines', 'executable_id': 'house-metrics-train-ncellini', 'parameter_bindings': [<ai_api_client_sdk.models.parameter_binding.ParameterBinding object at 0x7fbec008df10>], 'input_artifact_bindings': [<ai_api_client_sdk.models.input_artifact_binding.InputArtifactBinding object at 0x7fbec0281100>], 'created_at': datetime.datetime(2024, 3, 6, 20, 27, 24, tzinfo=datetime.timezone.utc), 'scenario': None}\n",
      "{'id': 'a0693228-92c2-400d-a2bf-d5bc61060bac', 'name': 'gsalomone-tf-gpu-conf', 'scenario_id': 'tf-text-clf', 'executable_id': 'tf-text-clf-serve', 'parameter_bindings': [], 'input_artifact_bindings': [<ai_api_client_sdk.models.input_artifact_binding.InputArtifactBinding object at 0x7fbec0281f10>], 'created_at': datetime.datetime(2024, 2, 29, 17, 2, 10, tzinfo=datetime.timezone.utc), 'scenario': None}\n",
      "{'id': '6f885ee5-e896-4877-9752-9268c784ef5d', 'name': 'gsalomone-tf-gpu-conf', 'scenario_id': 'tf-text-clf', 'executable_id': 'tf-text-clf-serve', 'parameter_bindings': [], 'input_artifact_bindings': [<ai_api_client_sdk.models.input_artifact_binding.InputArtifactBinding object at 0x7fbec0281a00>], 'created_at': datetime.datetime(2024, 2, 29, 16, 42, 1, tzinfo=datetime.timezone.utc), 'scenario': None}\n",
      "{'id': 'b14e6fb9-5423-4937-85c2-59f09e6e82d0', 'name': 'gsalomone-tf-gpu-conf', 'scenario_id': 'tf-text-clf', 'executable_id': 'tf-text-clf-serve', 'parameter_bindings': [], 'input_artifact_bindings': [<ai_api_client_sdk.models.input_artifact_binding.InputArtifactBinding object at 0x7fbea3b0a430>], 'created_at': datetime.datetime(2024, 2, 29, 15, 56, 56, tzinfo=datetime.timezone.utc), 'scenario': None}\n",
      "{'id': '91442fbc-9577-4839-beb0-6d0611ddceab', 'name': 'gsalomone-tf-gpu-conf', 'scenario_id': 'tf-text-clf', 'executable_id': 'tf-text-clf-serve', 'parameter_bindings': [], 'input_artifact_bindings': [<ai_api_client_sdk.models.input_artifact_binding.InputArtifactBinding object at 0x7fbea3b0acd0>], 'created_at': datetime.datetime(2024, 2, 26, 22, 4, 30, tzinfo=datetime.timezone.utc), 'scenario': None}\n",
      "{'id': 'd8674084-b83b-4b65-9120-398efd4edb38', 'name': 'gsalomone-tf-gpu-conf', 'scenario_id': 'tf-text-clf', 'executable_id': 'tf-text-clf-serve', 'parameter_bindings': [], 'input_artifact_bindings': [<ai_api_client_sdk.models.input_artifact_binding.InputArtifactBinding object at 0x7fbea3b0ac10>], 'created_at': datetime.datetime(2024, 2, 26, 20, 23, 37, tzinfo=datetime.timezone.utc), 'scenario': None}\n",
      "{'id': 'bd2b393d-025e-4518-8b99-e6297d1e1b83', 'name': 'gsalomone-tf-gpu-conf', 'scenario_id': 'tf-text-clf', 'executable_id': 'tf-text-clf-serve', 'parameter_bindings': [], 'input_artifact_bindings': [<ai_api_client_sdk.models.input_artifact_binding.InputArtifactBinding object at 0x7fbea3b0a550>], 'created_at': datetime.datetime(2024, 2, 26, 19, 9, 59, tzinfo=datetime.timezone.utc), 'scenario': None}\n",
      "{'id': '5e4247a5-849e-4c90-813b-87e1795496db', 'name': 'gsalomone-tf-gpu-conf', 'scenario_id': 'tf-text-clf', 'executable_id': 'tf-text-clf-serve', 'parameter_bindings': [], 'input_artifact_bindings': [<ai_api_client_sdk.models.input_artifact_binding.InputArtifactBinding object at 0x7fbea3b0a370>], 'created_at': datetime.datetime(2024, 2, 25, 4, 40, 5, tzinfo=datetime.timezone.utc), 'scenario': None}\n",
      "{'id': 'd1f12b53-1b32-4164-930b-b58a6ecd60df', 'name': 'gsalomone-tf-gpu-conf', 'scenario_id': 'tf-text-clf', 'executable_id': 'tf-text-clf-serve', 'parameter_bindings': [], 'input_artifact_bindings': [<ai_api_client_sdk.models.input_artifact_binding.InputArtifactBinding object at 0x7fbea3870b80>], 'created_at': datetime.datetime(2024, 2, 24, 21, 13, 31, tzinfo=datetime.timezone.utc), 'scenario': None}\n",
      "{'id': '15aeaeb7-1df5-4682-b29c-8df71dde7242', 'name': 'House Price (Jan) metrics', 'scenario_id': 'learning-datalines', 'executable_id': 'house-metrics-train', 'parameter_bindings': [<ai_api_client_sdk.models.parameter_binding.ParameterBinding object at 0x7fbea38706d0>], 'input_artifact_bindings': [<ai_api_client_sdk.models.input_artifact_binding.InputArtifactBinding object at 0x7fbea3870910>], 'created_at': datetime.datetime(2024, 2, 22, 19, 1, 7, tzinfo=datetime.timezone.utc), 'scenario': None}\n",
      "{'id': '31d166ff-b0c9-4563-a8d9-136112a346a3', 'name': 'code-workflow-1-ncellini', 'scenario_id': 'learning-code', 'executable_id': 'code-pipeline-ncellini', 'parameter_bindings': [], 'input_artifact_bindings': [], 'created_at': datetime.datetime(2024, 2, 19, 18, 59, 23, tzinfo=datetime.timezone.utc), 'scenario': None}\n",
      "{'id': '78942804-7938-4a00-b66d-09116deea3ee', 'name': 'gsalomone-tf-gpu-conf', 'scenario_id': 'tf-text-clf', 'executable_id': 'tf-text-clf-serve', 'parameter_bindings': [], 'input_artifact_bindings': [<ai_api_client_sdk.models.input_artifact_binding.InputArtifactBinding object at 0x7fbec02fad90>], 'created_at': datetime.datetime(2024, 2, 13, 22, 27, 18, tzinfo=datetime.timezone.utc), 'scenario': None}\n",
      "{'id': '9ba56439-644b-40ac-b51e-080d4c4de918', 'name': 'gsalomone-tf-gpu-conf', 'scenario_id': 'tf-text-clf', 'executable_id': 'tf-text-clf-serve', 'parameter_bindings': [], 'input_artifact_bindings': [<ai_api_client_sdk.models.input_artifact_binding.InputArtifactBinding object at 0x7fbea3861be0>], 'created_at': datetime.datetime(2024, 2, 13, 22, 2, 31, tzinfo=datetime.timezone.utc), 'scenario': None}\n",
      "{'id': '27839d28-f67e-407b-9d4b-d40982c47eaa', 'name': 'House Price (Jan) metrics', 'scenario_id': 'learning-datalines', 'executable_id': 'data-pipeline', 'parameter_bindings': [<ai_api_client_sdk.models.parameter_binding.ParameterBinding object at 0x7fbec0233c10>], 'input_artifact_bindings': [<ai_api_client_sdk.models.input_artifact_binding.InputArtifactBinding object at 0x7fbea3834070>], 'created_at': datetime.datetime(2024, 2, 10, 14, 50, 59, tzinfo=datetime.timezone.utc), 'scenario': None}\n",
      "{'id': '24634468-0e22-412d-8430-fda01aff8afb', 'name': 'House Price February 1', 'scenario_id': 'learning-datalines', 'executable_id': 'data-pipeline', 'parameter_bindings': [<ai_api_client_sdk.models.parameter_binding.ParameterBinding object at 0x7fbea3834130>], 'input_artifact_bindings': [<ai_api_client_sdk.models.input_artifact_binding.InputArtifactBinding object at 0x7fbea3834190>], 'created_at': datetime.datetime(2024, 2, 10, 2, 1, 6, tzinfo=datetime.timezone.utc), 'scenario': None}\n",
      "{'id': 'ee0bb280-1850-4ee4-9feb-db05b56369b6', 'name': 'House Price February 1', 'scenario_id': 'learning-datalines', 'executable_id': 'data-pipeline', 'parameter_bindings': [<ai_api_client_sdk.models.parameter_binding.ParameterBinding object at 0x7fbea3834250>], 'input_artifact_bindings': [<ai_api_client_sdk.models.input_artifact_binding.InputArtifactBinding object at 0x7fbea38342b0>], 'created_at': datetime.datetime(2024, 2, 10, 1, 57, 41, tzinfo=datetime.timezone.utc), 'scenario': None}\n",
      "{'id': '4fc0f712-8a49-479b-8cf5-6498ca89d221', 'name': 'House Price February 1', 'scenario_id': 'learning-datalines', 'executable_id': 'data-pipeline', 'parameter_bindings': [<ai_api_client_sdk.models.parameter_binding.ParameterBinding object at 0x7fbea3834370>], 'input_artifact_bindings': [<ai_api_client_sdk.models.input_artifact_binding.InputArtifactBinding object at 0x7fbea38343d0>], 'created_at': datetime.datetime(2024, 2, 10, 1, 54, 42, tzinfo=datetime.timezone.utc), 'scenario': None}\n",
      "{'id': '2da0f802-ab1c-44fd-a657-e84ff62cc7f3', 'name': 'House Price January 1', 'scenario_id': 'learning-datalines', 'executable_id': 'data-pipeline', 'parameter_bindings': [<ai_api_client_sdk.models.parameter_binding.ParameterBinding object at 0x7fbea3834490>], 'input_artifact_bindings': [<ai_api_client_sdk.models.input_artifact_binding.InputArtifactBinding object at 0x7fbea38344f0>], 'created_at': datetime.datetime(2024, 2, 10, 1, 52, 48, tzinfo=datetime.timezone.utc), 'scenario': None}\n",
      "{'id': 'b481580c-273e-4cab-a034-c97f5e9ecaa7', 'name': 'House Price January 1', 'scenario_id': 'learning-datalines', 'executable_id': 'data-pipeline', 'parameter_bindings': [<ai_api_client_sdk.models.parameter_binding.ParameterBinding object at 0x7fbea38345b0>], 'input_artifact_bindings': [<ai_api_client_sdk.models.input_artifact_binding.InputArtifactBinding object at 0x7fbea3834610>], 'created_at': datetime.datetime(2024, 2, 10, 1, 46, 10, tzinfo=datetime.timezone.utc), 'scenario': None}\n",
      "{'id': '46b79f8f-0d24-44a9-9156-fec225b69217', 'name': 'House Price January 1', 'scenario_id': 'learning-datalines', 'executable_id': 'data-pipeline', 'parameter_bindings': [<ai_api_client_sdk.models.parameter_binding.ParameterBinding object at 0x7fbea38346d0>], 'input_artifact_bindings': [<ai_api_client_sdk.models.input_artifact_binding.InputArtifactBinding object at 0x7fbea3834730>], 'created_at': datetime.datetime(2024, 2, 10, 1, 6, 41, tzinfo=datetime.timezone.utc), 'scenario': None}\n",
      "{'id': 'e632c3e7-5c45-4ffd-95da-544822fe418a', 'name': 'hello-pipeline-conf-ncellini', 'scenario_id': 'learning', 'executable_id': 'first-pipeline-ncellini', 'parameter_bindings': [], 'input_artifact_bindings': [], 'created_at': datetime.datetime(2024, 2, 8, 18, 5, 27, tzinfo=datetime.timezone.utc), 'scenario': None}\n",
      "{'id': 'a2cedfa2-08fd-44be-9d98-ab7b8205ff08', 'name': 'code-workflow-1', 'scenario_id': 'learning-code', 'executable_id': 'code-pipeline-01-gsalomone', 'parameter_bindings': [], 'input_artifact_bindings': [], 'created_at': datetime.datetime(2024, 1, 24, 23, 43, 57, tzinfo=datetime.timezone.utc), 'scenario': None}\n",
      "{'id': '1338cc7f-6e96-4d14-b475-01a250ac0352', 'name': 'code-workflow-1', 'scenario_id': 'learning-code', 'executable_id': 'code-pipeline-01-gsalomone', 'parameter_bindings': [], 'input_artifact_bindings': [], 'created_at': datetime.datetime(2024, 1, 24, 23, 40, 41, tzinfo=datetime.timezone.utc), 'scenario': None}\n",
      "{'id': '6c034d2b-d39e-4d65-b0aa-9b453bf6de1a', 'name': 'code-workflow-1', 'scenario_id': 'learning-code', 'executable_id': 'code-pipeline-01-gsalomone', 'parameter_bindings': [], 'input_artifact_bindings': [], 'created_at': datetime.datetime(2024, 1, 24, 23, 38, 54, tzinfo=datetime.timezone.utc), 'scenario': None}\n",
      "{'id': '14b14b45-5d2e-4e26-b561-60e272067610', 'name': 'code-workflow-1', 'scenario_id': 'learning-code', 'executable_id': 'code-pipeline-01-gsalomone', 'parameter_bindings': [], 'input_artifact_bindings': [], 'created_at': datetime.datetime(2024, 1, 24, 23, 33, 24, tzinfo=datetime.timezone.utc), 'scenario': None}\n",
      "{'id': 'a1e197c1-8a2f-4906-8a1d-d7bc02fe22ce', 'name': 'code-workflow-1', 'scenario_id': 'learning-code', 'executable_id': 'code-pipeline-01-gsalomone', 'parameter_bindings': [], 'input_artifact_bindings': [], 'created_at': datetime.datetime(2024, 1, 24, 23, 29, 40, tzinfo=datetime.timezone.utc), 'scenario': None}\n",
      "{'id': 'cdac5bf6-6e25-480a-a3ce-a3530ebb5a53', 'name': 'code-workflow-1', 'scenario_id': 'learning-code', 'executable_id': 'code-pipeline-01-gsalomone', 'parameter_bindings': [], 'input_artifact_bindings': [], 'created_at': datetime.datetime(2024, 1, 24, 23, 28, 40, tzinfo=datetime.timezone.utc), 'scenario': None}\n",
      "{'id': '0029478f-d127-4de8-90c5-bfde3d8dd5d1', 'name': 'hello-pipeline-conf-gsalomone', 'scenario_id': 'learning', 'executable_id': 'first-pipeline', 'parameter_bindings': [], 'input_artifact_bindings': [], 'created_at': datetime.datetime(2023, 12, 14, 22, 14, 54, tzinfo=datetime.timezone.utc), 'scenario': None}\n"
     ]
    }
   ],
   "source": [
    "# Lists all configurations\n",
    "response = ai_core_client.configuration.query(\n",
    "    resource_group=os.environ['AICORE_RESOURCE_GROUP']\n",
    ")\n",
    "\n",
    "for configuration in response.resources:\n",
    "    print(configuration.__dict__)\n"
   ]
  },
  {
   "cell_type": "code",
   "execution_count": 13,
   "id": "f3e7f0eb-05d4-4c61-893b-567ab4db6b57",
   "metadata": {},
   "outputs": [
    {
     "data": {
      "text/plain": [
       "{'id': 'e15f08daad0edb1e',\n",
       " 'message': 'Execution scheduled',\n",
       " 'status': <Status.UNKNOWN: 'UNKNOWN'>}"
      ]
     },
     "execution_count": 13,
     "metadata": {},
     "output_type": "execute_result"
    }
   ],
   "source": [
    "import os\n",
    "import yaml\n",
    "\n",
    "# Load environment variables from credentials.yaml\n",
    "with open('credentials.yaml', 'r') as file:\n",
    "    env_vars = yaml.safe_load(file)\n",
    "\n",
    "os.environ['CONFIGURATION_ID'] = env_vars['CONFIGURATION_ID']\n",
    "\n",
    "# Create execution using configuration\n",
    "response = ai_core_client.execution.create(\n",
    "    configuration_id=os.environ['CONFIGURATION_ID'],\n",
    "    resource_group=os.environ['AICORE_RESOURCE_GROUP']\n",
    ")\n",
    "\n",
    "response.__dict__"
   ]
  },
  {
   "cell_type": "code",
   "execution_count": 14,
   "id": "1d4d2745-429a-47e1-bd7b-d402e406c8fe",
   "metadata": {},
   "outputs": [
    {
     "data": {
      "text/plain": [
       "{'id': 'e15f08daad0edb1e',\n",
       " 'configuration_id': '2f04942b-4036-426e-be98-c20170637563',\n",
       " 'configuration_name': 'mfalconaro-hello-pipeline-conf',\n",
       " 'scenario_id': 'learning',\n",
       " 'status': <Status.RUNNING: 'RUNNING'>,\n",
       " 'target_status': <TargetStatus.COMPLETED: 'COMPLETED'>,\n",
       " 'created_at': datetime.datetime(2024, 6, 17, 22, 7, 43, tzinfo=datetime.timezone.utc),\n",
       " 'modified_at': datetime.datetime(2024, 6, 17, 22, 8, 59, tzinfo=datetime.timezone.utc),\n",
       " 'status_message': None,\n",
       " 'status_details': {'details': [{'container_name': 'init',\n",
       "    'exit_code': '',\n",
       "    'last_log_messages': '...rm:linux/amd64,}\"time=\"2024-06-17T22:08:***\" level=info msg=\"Start loading input artifacts...\"time=\"2024-06-17T22:08:***\" level=info msg=\"Alloc=7960 TotalAlloc=11892 Sys=18005 NumGC=3 Goroutines=4\"',\n",
       "    'message': '',\n",
       "    'pod_name': 'e15f08daad0edb1e-greeter-4102125238',\n",
       "    'ready': False}],\n",
       "  'workflow_info': [{'exit_code': '',\n",
       "    'id': 'e15f08daad0edb1e',\n",
       "    'message': '',\n",
       "    'name': 'e15f08daad0edb1e',\n",
       "    'phase': 'Running',\n",
       "    'type': 'Steps'},\n",
       "   {'exit_code': '',\n",
       "    'id': 'e15f08daad0edb1e-4102125238',\n",
       "    'message': '',\n",
       "    'name': 'e15f08daad0edb1e[0].greet',\n",
       "    'phase': 'Pending',\n",
       "    'type': 'Pod'},\n",
       "   {'exit_code': '',\n",
       "    'id': 'e15f08daad0edb1e-692882797',\n",
       "    'message': '',\n",
       "    'name': 'e15f08daad0edb1e[0]',\n",
       "    'phase': 'Running',\n",
       "    'type': 'StepGroup'}]},\n",
       " 'submission_time': datetime.datetime(2024, 6, 17, 22, 8, 52, tzinfo=datetime.timezone.utc),\n",
       " 'start_time': datetime.datetime(2024, 6, 17, 22, 8, 52, tzinfo=datetime.timezone.utc),\n",
       " 'completion_time': None,\n",
       " 'output_artifacts': [],\n",
       " 'execution_schedule_id': None}"
      ]
     },
     "execution_count": 14,
     "metadata": {},
     "output_type": "execute_result"
    }
   ],
   "source": [
    "import os\n",
    "import yaml\n",
    "\n",
    "# Load environment variables from credentials.yaml\n",
    "with open('credentials.yaml', 'r') as file:\n",
    "    env_vars = yaml.safe_load(file)\n",
    "\n",
    "os.environ['EXECUTION_ID'] = env_vars['EXECUTION_ID']\n",
    "\n",
    "# Get execution status from SAP AI Core\n",
    "# execute this multiple times in interval of 30 seconds\n",
    "response = ai_core_client.execution.get(\n",
    "    execution_id=os.environ['EXECUTION_ID'], # Change this\n",
    "    resource_group=os.environ['AICORE_RESOURCE_GROUP']\n",
    ")\n",
    "\n",
    "response.__dict__\n"
   ]
  },
  {
   "cell_type": "code",
   "execution_count": 15,
   "id": "e454dfc6-f733-4c72-9883-bbd3f47a7ca2",
   "metadata": {},
   "outputs": [
    {
     "name": "stdout",
     "output_type": "stream",
     "text": [
      "{'msg': 'time=\"2024-06-17T22:08:59.391Z\" level=info msg=\"Starting Workflow Executor\" version=v3.5.4', 'timestamp': datetime.datetime(2024, 6, 17, 22, 8, 59, 391476, tzinfo=datetime.timezone.utc)}\n",
      "{'msg': 'time=\"2024-06-17T22:08:59.396Z\" level=info msg=\"Using executor retry strategy\" Duration=1s Factor=1.6 Jitter=0.5 Steps=5', 'timestamp': datetime.datetime(2024, 6, 17, 22, 8, 59, 396725, tzinfo=datetime.timezone.utc)}\n",
      "{'msg': 'time=\"2024-06-17T22:08:59.396Z\" level=info msg=\"Executor initialized\" deadline=\"0001-01-01 00:00:00 +0000 UTC\" includeScriptOutput=false namespace=rg-80bbb984-cd927cab podName=e15f08daad0edb1e-greeter-4102125238 templateName=greeter version=\"&Version{Version:v3.5.4,BuildDate:2024-03-21T09:25:06Z,GitCommit:960af331a8c0a3f2e263c8b90f1daf4303816ba8,GitTag:v3.5.4,GitTreeState:clean,GoVersion:go1.22.1,Compiler:gc,Platform:linux/amd64,}\"', 'timestamp': datetime.datetime(2024, 6, 17, 22, 8, 59, 396925, tzinfo=datetime.timezone.utc)}\n",
      "{'msg': 'time=\"2024-06-17T22:08:59.515Z\" level=info msg=\"Start loading input artifacts...\"', 'timestamp': datetime.datetime(2024, 6, 17, 22, 8, 59, 515198, tzinfo=datetime.timezone.utc)}\n",
      "{'msg': 'time=\"2024-06-17T22:08:59.515Z\" level=info msg=\"Alloc=7960 TotalAlloc=11892 Sys=18005 NumGC=3 Goroutines=4\"', 'timestamp': datetime.datetime(2024, 6, 17, 22, 8, 59, 515413, tzinfo=datetime.timezone.utc)}\n",
      "{'msg': 'Hello from SAP AI Core', 'timestamp': datetime.datetime(2024, 6, 17, 22, 9, 30, 249617, tzinfo=datetime.timezone.utc)}\n",
      "{'msg': 'time=\"2024-06-17T22:09:31.224Z\" level=info msg=\"sub-process exited\" argo=true error=\"<nil>\"', 'timestamp': datetime.datetime(2024, 6, 17, 22, 9, 31, 224856, tzinfo=datetime.timezone.utc)}\n"
     ]
    }
   ],
   "source": [
    "# Get logs of an execution\n",
    "response = ai_core_client.execution.query_logs(\n",
    "    execution_id=os.environ['EXECUTION_ID'],\n",
    "    resource_group=os.environ['AICORE_RESOURCE_GROUP']\n",
    ")\n",
    "\n",
    "for log in response.data.result:\n",
    "    print(log.__dict__)\n"
   ]
  },
  {
   "cell_type": "markdown",
   "id": "dea7ad1e-f05c-4c4e-86df-23f6d0065c17",
   "metadata": {},
   "source": [
    "## Step 9: Update your workflow\n",
    "\n",
    "*Perform this step over GitHub*. Refer step 9 of the tutorial: https://developers.sap.com/tutorials/ai-core-helloworld.html#87b7f9b0-8420-49bb-a2d5-229a85b330ed\n",
    "\n"
   ]
  },
  {
   "cell_type": "markdown",
   "id": "12709765-5b8b-462a-b8fc-5526ce7e9936",
   "metadata": {},
   "source": [
    "## Step 10: Create new execution"
   ]
  },
  {
   "cell_type": "code",
   "execution_count": null,
   "id": "b3313d73-5f50-49ad-aae9-db4e7eb4f365",
   "metadata": {},
   "outputs": [],
   "source": [
    "# Check executable status\n",
    "response = ai_core_client.executable.query(\n",
    "    scenario_id = \"learning\", resource_group='default'\n",
    ")\n",
    "\n",
    "for executable in response.resources:\n",
    "    print(executable.__dict__)\n"
   ]
  },
  {
   "cell_type": "code",
   "execution_count": null,
   "id": "73e6d7e7-a1ff-4216-82a3-0581c739ea31",
   "metadata": {},
   "outputs": [],
   "source": [
    "# Reuse configuration ID to trigger execution\n",
    "response = ai_core_client.execution.create(\n",
    "    configuration_id = '<YOUR_CONFIGURATION_ID>', # previously created.\n",
    "    resource_group = 'default'\n",
    ")\n",
    "\n",
    "response.__dict__\n"
   ]
  },
  {
   "cell_type": "code",
   "execution_count": null,
   "id": "ce52ee4e-260e-4c22-8741-a6e062c67dbb",
   "metadata": {},
   "outputs": [],
   "source": [
    "# Get Execution Status\n",
    "# execute this multiple times in interval of 30 seconds\n",
    "response = ai_core_client.execution.get(\n",
    "    execution_id = '<YOUR_EXECUTION_ID>',\n",
    "    resource_group = 'default'\n",
    ")\n",
    "\n",
    "response.__dict__\n"
   ]
  },
  {
   "cell_type": "code",
   "execution_count": null,
   "id": "c2a4d7ae-8211-4926-8968-0d1d98414826",
   "metadata": {},
   "outputs": [],
   "source": [
    "# Get Execution Logs\n",
    "response = ai_core_client.execution.query_logs(\n",
    "    execution_id = '<YOUR_EXECUTION_ID>',\n",
    "    resource_group = 'default'\n",
    ")\n",
    "\n",
    "for log in response.data.result:\n",
    "    print(log.__dict__)\n"
   ]
  }
 ],
 "metadata": {
  "kernelspec": {
   "display_name": "Python 3 (ipykernel)",
   "language": "python",
   "name": "python3"
  },
  "language_info": {
   "codemirror_mode": {
    "name": "ipython",
    "version": 3
   },
   "file_extension": ".py",
   "mimetype": "text/x-python",
   "name": "python",
   "nbconvert_exporter": "python",
   "pygments_lexer": "ipython3",
   "version": "3.9.19"
  }
 },
 "nbformat": 4,
 "nbformat_minor": 5
}
